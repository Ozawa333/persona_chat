{
 "cells": [
  {
   "cell_type": "code",
   "execution_count": null,
   "id": "2579f1f0-451a-4d64-8289-11c9cce31f6a",
   "metadata": {},
   "outputs": [],
   "source": [
    "conda install -c conda-forge cudatoolkit==11.7.0\n",
    "conda install -c conda-forge cudnn\n",
    "conda install -c conda-forge cudatoolkit-dev\n",
    "conda install -c conda-forge pytorch==1.13.1\n",
    "conda install -c conda-forge nvidia-apex\n",
    "git clone https://github.com/hpcaitech/ColossalAI.git\n",
    "cd ColossalAI/applications/Chat\n",
    "CUDA_EXT=1 pip install .\n",
    "git clone https://github.com/Chenrj233/ParlAI.git\n",
    "cd ParlAI\n",
    "python setup.py install"
   ]
  },
  {
   "cell_type": "code",
   "execution_count": null,
   "id": "f5c3102a-2777-4530-aec3-c836def0ea4b",
   "metadata": {},
   "outputs": [],
   "source": [
    "torchrun --standalone --nproc_per_node=3 train_sft.py \\\n",
    "    --pretrain './checkpoint/llama_7B' \\\n",
    "    --model 'llama' \\\n",
    "    --strategy colossalai_zero2 \\\n",
    "    --log_interval 128 \\\n",
    "    --save_path './checkpoint/step1/epoch3' \\\n",
    "    --dataset 'PersonaChat' \\\n",
    "    --accumulation_steps 8 \\\n",
    "    --lr 2e-5 \\\n",
    "    --max_epochs 3 \\\n",
    "    --lora_rank 16 \\\n",
    "    --batch_size 2 \\\n",
    "    --max_datasets_size 128"
   ]
  },
  {
   "cell_type": "code",
   "execution_count": null,
   "id": "d4039ccd-9959-4046-a033-76aa21c69b8f",
   "metadata": {},
   "outputs": [],
   "source": [
    "torchrun --standalone --nproc_per_node=3 train_sft.py \\\n",
    "    --pretrain 'facebook/opt-350m' \\\n",
    "    --model 'opt' \\\n",
    "    --strategy colossalai_zero2 \\\n",
    "    --log_interval 128 \\\n",
    "    --save_path './checkpoint_opt/step1/epoch3_test' \\\n",
    "    --dataset 'PersonaChat' \\\n",
    "    --accumulation_steps 8 \\\n",
    "    --lr 2e-5 \\\n",
    "    --max_epochs 3 \\\n",
    "    --batch_size 16 \\\n",
    "    --max_datasets_size 128"
   ]
  },
  {
   "cell_type": "code",
   "execution_count": null,
   "id": "90bd27ab-e1e3-4395-8bc1-5027f6f10c0a",
   "metadata": {},
   "outputs": [],
   "source": []
  },
  {
   "cell_type": "code",
   "execution_count": null,
   "id": "910cab99-1863-4d4d-b5c1-3ae7b7b71121",
   "metadata": {},
   "outputs": [],
   "source": [
    "torchrun --standalone --nproc_per_node=3 train_reward_model.py \\\n",
    "    --strategy colossalai_zero2 \\\n",
    "    --model 'opt' \\\n",
    "    --pretrain './checkpoint_opt/step1/epoch3' \\\n",
    "    --dataset 'Dahoas/rm-static' \\\n",
    "    --save_path './checkpoint_opt/step2/epoch3/rmstatic.pt' \\\n",
    "    --max_epochs 3 \\\n",
    "    --batch_size 16 \\\n",
    "    --loss_fn 'log_exp' \\\n",
    "    --max_datasets_size 128"
   ]
  },
  {
   "cell_type": "code",
   "execution_count": null,
   "id": "3e8929f1-20fc-4d59-a84b-d5ef9e7670c4",
   "metadata": {},
   "outputs": [],
   "source": [
    "torchrun --standalone --nproc_per_node=3 train_reward_model.py \\\n",
    "    --strategy colossalai_zero2 \\\n",
    "    --model 'opt' \\\n",
    "    --pretrain './checkpoint_opt/step1/epoch3' \\\n",
    "    --dataset 'PersonaChat' \\\n",
    "    --save_path './checkpoint_opt/step2/epoch3/rmpersona.pt' \\\n",
    "    --max_epochs 3 \\\n",
    "    --batch_size 16 \\\n",
    "    --loss_fn 'log_exp' \\\n",
    "    --max_datasets_size 128"
   ]
  },
  {
   "cell_type": "code",
   "execution_count": null,
   "id": "50bb1cf2-4d00-4d72-ad22-2a2a274a038b",
   "metadata": {},
   "outputs": [],
   "source": []
  },
  {
   "cell_type": "code",
   "execution_count": null,
   "id": "f8a7628c-63a7-4364-b3b1-04ef8022920e",
   "metadata": {},
   "outputs": [],
   "source": []
  },
  {
   "cell_type": "code",
   "execution_count": null,
   "id": "5ac75f81-a084-4bf9-88fe-ef5928b9937f",
   "metadata": {},
   "outputs": [],
   "source": [
    "torchrun --standalone --nproc_per_node=1 train_prompts.py \\\n",
    "    --prompt_dataset 'PersonaChat' \\\n",
    "    --pretrain_dataset 'PersonaChat' \\\n",
    "    --strategy colossalai_zero2 \\\n",
    "    --model 'opt' \\\n",
    "    --pretrain './checkpoint_opt/step1/epoch1' \\\n",
    "    --rm_model 'opt' \\\n",
    "    --rm_pretrain 'facebook/opt-2.7b' \\\n",
    "    --rm_path './checkpoint_opt/step2/epoch1/rmstatic.pt' \\\n",
    "    --save_path './checkpoint_opt/step3/epoch1/acstatic.pt' \\\n",
    "    --num_episodes 10 \\\n",
    "    --max_epochs 1 \\\n",
    "    --train_batch_size 8 \\\n",
    "    --ptx_batch_size 1 \\\n",
    "    --experience_batch_size 8\\\n",
    "    --lora_rank 16 \\\n",
    "    --max_input_len 511 \\\n",
    "    --max_seq_len 512 \\\n",
    "    --tokenizer 'facebook/opt-350m' \\\n",
    "    --max_datasets_size 16"
   ]
  },
  {
   "cell_type": "code",
   "execution_count": null,
   "id": "1540dfbf-e35d-4fae-a013-95060ee2b56b",
   "metadata": {},
   "outputs": [],
   "source": []
  },
  {
   "cell_type": "code",
   "execution_count": null,
   "id": "de34d6a0-eedf-41e5-9a39-d7f9a0eee49f",
   "metadata": {},
   "outputs": [],
   "source": [
    "python evaluation_PersonaChat.py \\\n",
    "    --model_checkpoint 'persona_original' \\\n",
    "    --eval_type f1 \\\n",
    "    --beam 2 \\\n",
    "    --max_history 10"
   ]
  },
  {
   "cell_type": "code",
   "execution_count": null,
   "id": "8daa9bb9-df11-44bf-9521-a9820ecf905b",
   "metadata": {},
   "outputs": [],
   "source": [
    "python evaluation_PersonaChat.py \\\n",
    "    --model_checkpoint './checkpoint_opt/step1/epoch3' \\\n",
    "    --eval_type f1 \\\n",
    "    --beam 2 \\\n",
    "    --max_history 10"
   ]
  },
  {
   "cell_type": "code",
   "execution_count": null,
   "id": "603f6ff0-fe78-4bbb-afb9-d5ca5a6bc366",
   "metadata": {},
   "outputs": [],
   "source": []
  },
  {
   "cell_type": "code",
   "execution_count": null,
   "id": "fc9f2c2a-6fb3-416d-ad4e-0af545a68bd9",
   "metadata": {},
   "outputs": [],
   "source": []
  },
  {
   "cell_type": "code",
   "execution_count": null,
   "id": "1bd402a1-cbf2-4b55-8e19-08421809fca7",
   "metadata": {},
   "outputs": [],
   "source": []
  },
  {
   "cell_type": "code",
   "execution_count": null,
   "id": "5bd500be-558b-4043-a6d9-e965afea9a93",
   "metadata": {},
   "outputs": [],
   "source": [
    "torchrun --standalone --nproc_per_node=1 inference.py \\\n",
    "    --model 'opt' \\\n",
    "    --pretrain 'facebook/opt-2.7b' \\\n",
    "    --model_path './checkpoint_opt/step3/epoch1/acstatic.pt' \\\n",
    "    --max_length 128 \\\n",
    "    --tokenizer 'facebook/opt-350m'   "
   ]
  },
  {
   "cell_type": "code",
   "execution_count": null,
   "id": "e6fe24a8-ca11-4fdd-869d-336e0ed15c54",
   "metadata": {
    "tags": []
   },
   "outputs": [],
   "source": [
    "torchrun --standalone --nproc_per_node=1 inference.py \\\n",
    "    --model 'opt' \\\n",
    "    --pretrain './checkpoint_opt/step1/epoch1' \\\n",
    "    --max_length 512 \\\n",
    "    --tokenizer 'facebook/opt-350m'   "
   ]
  },
  {
   "cell_type": "code",
   "execution_count": null,
   "id": "e10b8bac-05e3-489e-88f0-665ec9e2a5b4",
   "metadata": {
    "tags": []
   },
   "outputs": [],
   "source": [
    "from transformers import AutoTokenizer\n",
    "from transformers.models.opt.modeling_opt import OPTForCausalLM\n",
    "self.tokenizer = AutoTokenizer.from_pretrained(\"facebook/opt-350m\", add_prefix_space=True)\n",
    "self.model_checkpoint = OPTForCausalLM.from_pretrained('../Chat/checkpoint_opt/step1/epoch1')"
   ]
  },
  {
   "cell_type": "code",
   "execution_count": null,
   "id": "1d14316c-a0bb-4458-a57c-0bac46742d39",
   "metadata": {
    "tags": []
   },
   "outputs": [],
   "source": [
    "epoch5\n",
    "1. 0.03676635443136688\n",
    "2. 0.02773737145198687"
   ]
  },
  {
   "cell_type": "code",
   "execution_count": null,
   "id": "a96238ef-5496-4109-906b-e72dc0d7b6d3",
   "metadata": {},
   "outputs": [],
   "source": [
    "docker run -it --gpus all -p 8899:8888 -e JUPYTER_ENABLE_LAB=yes -v /mnt/userhome/sun/jupyter:/home/jovyan/work persona_sun_v2 &"
   ]
  }
 ],
 "metadata": {
  "kernelspec": {
   "display_name": "Python 3 (ipykernel)",
   "language": "python",
   "name": "python3"
  },
  "language_info": {
   "codemirror_mode": {
    "name": "ipython",
    "version": 3
   },
   "file_extension": ".py",
   "mimetype": "text/x-python",
   "name": "python",
   "nbconvert_exporter": "python",
   "pygments_lexer": "ipython3",
   "version": "3.10.10"
  }
 },
 "nbformat": 4,
 "nbformat_minor": 5
}
