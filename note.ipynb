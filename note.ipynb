{
 "cells": [
  {
   "cell_type": "code",
   "execution_count": null,
   "id": "2579f1f0-451a-4d64-8289-11c9cce31f6a",
   "metadata": {},
   "outputs": [],
   "source": [
    "#https://github.com/hpcaitech/ColossalAI/tree/main/applications/Chat\n",
    "git clone https://github.com/hpcaitech/ColossalAI.git\n",
    "cd ColossalAI/applications/Chat\n",
    "pip install .\n",
    "cd transformers\n",
    "pip install .\n",
    "#https://anaconda.org/conda-forge/cudatoolkit-dev\n",
    "conda install -c conda-forge cudatoolkit-dev\n",
    "#https://github.com/NVIDIA/apex\n",
    "conda install -c conda-forge nvidia-apex"
   ]
  },
  {
   "cell_type": "code",
   "execution_count": null,
   "id": "f5c3102a-2777-4530-aec3-c836def0ea4b",
   "metadata": {},
   "outputs": [],
   "source": [
    "torchrun --standalone --nproc_per_node=1 train_sft.py \\\n",
    "    --pretrain 'facebook/opt-2.7b' \\\n",
    "    --model 'opt' \\\n",
    "    --strategy colossalai_zero2 \\\n",
    "    --log_interval 10 \\\n",
    "    --save_path './checkpoint_opt/step1/epoch1' \\\n",
    "    --dataset 'PersonaChat' \\\n",
    "    --batch_size 2 \\\n",
    "    --accumulation_steps 8 \\\n",
    "    --lr 2e-5 \\\n",
    "    --max_epochs 1 \\\n",
    "    --lora_rank 16 \\\n",
    "    --batch_size 8 \\\n",
    "    --max_datasets_size 16"
   ]
  },
  {
   "cell_type": "code",
   "execution_count": null,
   "id": "50bb1cf2-4d00-4d72-ad22-2a2a274a038b",
   "metadata": {},
   "outputs": [],
   "source": [
    "torchrun --standalone --nproc_per_node=1 train_reward_model.py \\\n",
    "    --strategy colossalai_zero2 \\\n",
    "    --model 'opt' \\\n",
    "    --pretrain './checkpoint_opt/step1/epoch1' \\\n",
    "    --dataset 'PersonaChat' \\\n",
    "    --save_path './checkpoint_opt/step2/epoch1/rmstatic.pt' \\\n",
    "    --max_epochs 1 \\\n",
    "    --batch_size 8 \\\n",
    "    --loss_fn 'log_exp' \\\n",
    "    --lora_rank 16 \\\n",
    "    --max_datasets_size 16"
   ]
  },
  {
   "cell_type": "code",
   "execution_count": null,
   "id": "5ac75f81-a084-4bf9-88fe-ef5928b9937f",
   "metadata": {},
   "outputs": [],
   "source": [
    "torchrun --standalone --nproc_per_node=1 train_prompts.py \\\n",
    "    --prompt_dataset 'PersonaChat' \\\n",
    "    --pretrain_dataset 'PersonaChat' \\\n",
    "    --strategy colossalai_zero2 \\\n",
    "    --model 'opt' \\\n",
    "    --pretrain './checkpoint_opt/step1/epoch1' \\\n",
    "    --rm_model 'opt' \\\n",
    "    --rm_pretrain 'facebook/opt-2.7b' \\\n",
    "    --rm_path './checkpoint_opt/step2/epoch1/rmstatic.pt' \\\n",
    "    --save_path './checkpoint_opt/step3/epoch1/acstatic.pt' \\\n",
    "    --num_episodes 10 \\\n",
    "    --max_epochs 1 \\\n",
    "    --train_batch_size 8 \\\n",
    "    --ptx_batch_size 1 \\\n",
    "    --experience_batch_size 8\\\n",
    "    --lora_rank 16 \\\n",
    "    --max_input_len 511 \\\n",
    "    --max_seq_len 512 \\\n",
    "    --max_datasets_size 16"
   ]
  },
  {
   "cell_type": "code",
   "execution_count": 2,
   "id": "e10b8bac-05e3-489e-88f0-665ec9e2a5b4",
   "metadata": {
    "tags": []
   },
   "outputs": [
    {
     "name": "stdout",
     "output_type": "stream",
     "text": [
      "[1, 2, 3, 4, 5, 6, 7, 8, 9]\n"
     ]
    }
   ],
   "source": [
    "a = [1,2,3,4,5,6,7,8,9]\n",
    "print(a[:None])"
   ]
  },
  {
   "cell_type": "code",
   "execution_count": null,
   "id": "5bd500be-558b-4043-a6d9-e965afea9a93",
   "metadata": {},
   "outputs": [],
   "source": []
  }
 ],
 "metadata": {
  "kernelspec": {
   "display_name": "Python 3 (ipykernel)",
   "language": "python",
   "name": "python3"
  },
  "language_info": {
   "codemirror_mode": {
    "name": "ipython",
    "version": 3
   },
   "file_extension": ".py",
   "mimetype": "text/x-python",
   "name": "python",
   "nbconvert_exporter": "python",
   "pygments_lexer": "ipython3",
   "version": "3.10.10"
  }
 },
 "nbformat": 4,
 "nbformat_minor": 5
}
