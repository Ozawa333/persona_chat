{
 "cells": [
  {
   "cell_type": "code",
   "execution_count": null,
   "id": "b68e68e5-3787-42c8-ae4b-ebeb3b9367de",
   "metadata": {
    "tags": []
   },
   "outputs": [],
   "source": [
    "3s elapsed: {'exs': 1, '%done': '0.01%', 'time_left': '30263s', 'f1': 0.04167, 'bleu': 3.079e-11}\n",
    "21s elapsed: {'exs': 2, '%done': '0.03%', 'time_left': '85415s', 'f1': 0.02083, 'bleu': 1.539e-11}\n",
    "36s elapsed: {'exs': 3, '%done': '0.04%', 'time_left': '95784s', 'f1': 0.01699, 'bleu': 1.187e-11}\n",
    "47s elapsed: {'exs': 4, '%done': '0.05%', 'time_left': '93051s', 'f1': 0.01558, 'bleu': 1.039e-11}\n",
    "53s elapsed: {'exs': 5, '%done': '0.06%', 'time_left': '82968s', 'f1': 0.02484, 'bleu': 1.158e-11}\n",
    "\n",
    "19s elapsed: {'exs': 1, '%done': '0.01%', 'time_left': '154401s', 'f1': 0.006601, 'bleu': 3.478e-12}\n",
    "37s elapsed: {'exs': 2, '%done': '0.03%', 'time_left': '147601s', 'f1': 0.0033, 'bleu': 1.739e-12}\n",
    "54s elapsed: {'exs': 3, '%done': '0.04%', 'time_left': '141806s', 'f1': 0.004899, 'bleu': 2.551e-12}\n",
    "70s elapsed: {'exs': 4, '%done': '0.05%', 'time_left': '136827s', 'f1': 0.005758, 'bleu': 2.989e-12}\n",
    "75s elapsed: {'exs': 5, '%done': '0.06%', 'time_left': '117988s', 'f1': 0.01698, 'bleu': 5.661e-12}\n",
    "81s elapsed: {'exs': 6, '%done': '0.08%', 'time_left': '105582s', 'f1': 0.01766, 'bleu': 6.788e-12}\n",
    "86s elapsed: {'exs': 7, '%done': '0.09%', 'time_left': '96756s', 'f1': 0.01513, 'bleu': 5.818e-12}"
   ]
  },
  {
   "cell_type": "code",
   "execution_count": null,
   "id": "ff6f7420-7404-4e67-8531-7d280eb56592",
   "metadata": {},
   "outputs": [],
   "source": [
    "                out_ids = self.model_checkpoint.generate(input_ids=tensor_input_ids,\n",
    "                                                        max_length=self.args.max_length,\n",
    "                                                        do_sample=True,\n",
    "                                                        top_k=self.args.top_k,\n",
    "                                                        top_p=self.args.top_p,\n",
    "                                                        num_return_sequences=1,\n",
    "                                                        num_beams=self.args.beam,\n",
    "                                                        early_stopping=True)"
   ]
  },
  {
   "cell_type": "code",
   "execution_count": null,
   "id": "40e448d7-7b04-4f61-b84c-d9c6ae4cf363",
   "metadata": {},
   "outputs": [],
   "source": [
    "Setting OMP_NUM_THREADS environment variable for each process to be 1 in default, to avoid your system being overloaded, please further tune the variable for optimal performance in your application as needed. \n",
    "*****************************************\n",
    "`fused_weight_gradient_mlp_cuda` module not found. gradient accumulation fusion with weight gradient computation disabled.\n",
    "`fused_weight_gradient_mlp_cuda` module not found. gradient accumulation fusion with weight gradient computation disabled.\n",
    "`fused_weight_gradient_mlp_cuda` module not found. gradient accumulation fusion with weight gradient computation disabled."
   ]
  },
  {
   "cell_type": "code",
   "execution_count": 2,
   "id": "215d430d-5474-4acc-bd7b-4ea69809dc6c",
   "metadata": {
    "tags": []
   },
   "outputs": [],
   "source": [
    "from torch.nn.utils.rnn import pad_sequence\n",
    "import torch\n",
    "import numpy as np\n",
    "import transformers \n",
    "from transformers import AutoTokenizer\n",
    "from transformers import LlamaForCausalLM\n"
   ]
  },
  {
   "cell_type": "code",
   "execution_count": null,
   "id": "97054cdf-4e48-44b9-a96a-de0be0a65cee",
   "metadata": {
    "tags": []
   },
   "outputs": [],
   "source": [
    "item_mine = pad_sequence([torch.from_numpy(np.array(x)) for x in item_mine],\n",
    "                                  batch_first=True, padding_value=pad_id)"
   ]
  },
  {
   "cell_type": "code",
   "execution_count": 3,
   "id": "5441c520-ed41-4fd0-bc02-0ccee6dcf73d",
   "metadata": {
    "tags": []
   },
   "outputs": [],
   "source": [
    "#tokenizer = AutoTokenizer.from_pretrained(\"/checkpoint/llama_7B/\", padding_side=\"right\", use_fast=False)\n",
    "tokenizer = AutoTokenizer.from_pretrained(\n",
    "    \"facebook/opt-350m\",\n",
    "    padding_side=\"right\",\n",
    "    use_fast=False,\n",
    ")\n",
    "#model = LlamaForCausalLM.from_pretrained(\"./checkpoint/llama_7B\")"
   ]
  },
  {
   "cell_type": "code",
   "execution_count": null,
   "id": "303c2cc6-7b57-403f-a85a-e7fbbb246c99",
   "metadata": {},
   "outputs": [],
   "source": []
  },
  {
   "cell_type": "code",
   "execution_count": 4,
   "id": "7342c4ef-0678-473f-99a8-6add42e3ca76",
   "metadata": {
    "tags": []
   },
   "outputs": [
    {
     "data": {
      "text/plain": [
       "4"
      ]
     },
     "execution_count": 4,
     "metadata": {},
     "output_type": "execute_result"
    }
   ],
   "source": [
    "tokenizer.eos_token = '<\\s>'\n",
    "tokenizer.bos_token = '<s>'\n",
    "special_tokens_dict = {\"sep_token\": \"<\\sep>\", \"pad_token\": \"<\\pad>\"}\n",
    "tokenizer.add_special_tokens(special_tokens_dict)\n",
    "tokenizer.add_tokens(['<query>', '<response>', '<latent>', '<persona>'])"
   ]
  },
  {
   "cell_type": "code",
   "execution_count": null,
   "id": "160716f5-a72d-4b5e-8229-a42edaa2aea1",
   "metadata": {
    "tags": []
   },
   "outputs": [],
   "source": [
    "print(tokenizer.bos_token_id, tokenizer.eos_token_id, tokenizer.pad_token_id, tokenizer.sep_token_id)\n",
    "print(tokenizer.bos_token, tokenizer.eos_token, tokenizer.pad_token, tokenizer.sep_token)\n",
    "print(tokenizer.convert_tokens_to_ids(['<query>', '<response>', '<latent>', '<persona>']))"
   ]
  },
  {
   "cell_type": "code",
   "execution_count": null,
   "id": "3ab996e3-21a2-465c-bc88-1d0c56694670",
   "metadata": {
    "tags": []
   },
   "outputs": [],
   "source": []
  },
  {
   "cell_type": "code",
   "execution_count": null,
   "id": "76237327-dfb1-4581-a0b0-16b799c2f1dd",
   "metadata": {
    "tags": []
   },
   "outputs": [],
   "source": [
    "tokenizer.sep_token='<\\s>'"
   ]
  },
  {
   "cell_type": "code",
   "execution_count": null,
   "id": "fde8c748-f29b-404d-8946-3acac874057d",
   "metadata": {
    "tags": []
   },
   "outputs": [],
   "source": [
    "tokenizer.eos_token = '<\\s>'"
   ]
  },
  {
   "cell_type": "code",
   "execution_count": 10,
   "id": "f4ca2868-ec20-4a1e-b990-e6b5825a2afb",
   "metadata": {
    "tags": []
   },
   "outputs": [
    {
     "name": "stdout",
     "output_type": "stream",
     "text": [
      "50266\n"
     ]
    }
   ],
   "source": [
    "print(tokenizer.pad_token_id)"
   ]
  },
  {
   "cell_type": "code",
   "execution_count": null,
   "id": "06b11c36-a555-46ae-a0b9-6ad1ac34a774",
   "metadata": {
    "tags": []
   },
   "outputs": [],
   "source": [
    "prompt = '<\\s>'\n",
    "inputs = tokenizer(prompt, return_tensors=\"pt\")\n",
    "print(inputs)"
   ]
  },
  {
   "cell_type": "code",
   "execution_count": null,
   "id": "7bed0c49-198c-44b3-87a7-f614f5802eae",
   "metadata": {
    "tags": []
   },
   "outputs": [],
   "source": [
    "generate_ids = model.generate(inputs.input_ids, max_length=30)\n",
    "print(generate_ids)"
   ]
  },
  {
   "cell_type": "code",
   "execution_count": null,
   "id": "7b6fbaf7-3abb-4e92-9128-ceba6c68a3be",
   "metadata": {
    "tags": []
   },
   "outputs": [],
   "source": []
  },
  {
   "cell_type": "code",
   "execution_count": null,
   "id": "27f8f46e-c7d7-4c94-9735-2208535aaf0c",
   "metadata": {
    "tags": []
   },
   "outputs": [],
   "source": [
    "tokenizer.decode(inputs['input_ids'][0])"
   ]
  },
  {
   "cell_type": "code",
   "execution_count": null,
   "id": "1e0a251c-7f0e-475e-ac87-ceedfda55725",
   "metadata": {
    "tags": []
   },
   "outputs": [],
   "source": [
    "print(tokenizer.decode(['hello']))"
   ]
  },
  {
   "cell_type": "code",
   "execution_count": null,
   "id": "7370622d-7aac-41cf-a943-a601a1080c61",
   "metadata": {
    "tags": []
   },
   "outputs": [],
   "source": [
    "print(len(tokenizer.get_vocab()))"
   ]
  },
  {
   "cell_type": "code",
   "execution_count": null,
   "id": "86786ed5-0d7f-42d0-b22d-ef94df35efa5",
   "metadata": {
    "tags": []
   },
   "outputs": [],
   "source": [
    "a = tokenizer.get_vocab()"
   ]
  },
  {
   "cell_type": "code",
   "execution_count": null,
   "id": "f5bd7c6b-0787-498c-926d-295339a7603b",
   "metadata": {
    "tags": []
   },
   "outputs": [],
   "source": [
    "a = {v : k for k, v in a.items()}"
   ]
  },
  {
   "cell_type": "code",
   "execution_count": null,
   "id": "57b15bd0-bdfa-46bf-8cca-d57ddb3da06d",
   "metadata": {
    "tags": []
   },
   "outputs": [],
   "source": [
    "print(a[50])"
   ]
  },
  {
   "cell_type": "code",
   "execution_count": null,
   "id": "a350a9aa-cff4-4ff6-8777-689d002f90c2",
   "metadata": {
    "tags": []
   },
   "outputs": [],
   "source": [
    "import torch\n",
    "from transformers import GPT2Tokenizer, GPT2DoubleHeadsModel\n",
    "\n",
    "tokenizer = GPT2Tokenizer.from_pretrained('gpt2')\n",
    "model = GPT2DoubleHeadsModel.from_pretrained('gpt2')\n",
    "\n",
    "choices = [ \"Bob likes candy ; what does Bob like ?  Bag <|endoftext|>\",\n",
    "                   \"Bob likes candy ; what does Bob like ?  Burger <|endoftext|>\",\n",
    "                   \"Bob likes candy ; what does Bob like ?  Candy <|endoftext|>\",\n",
    "                  \"Bob likes candy ; what does Bob like ?  Apple <|endoftext|>\"]\n",
    "\n",
    "encoded_choices = [tokenizer.encode(s) for s in choices]\n",
    "\n",
    "eos_token_location = [tokens.index(tokenizer.eos_token_id) for tokens in encoded_choices]\n",
    "input_ids = torch.tensor(encoded_choices).unsqueeze(0) \n",
    "mc_token_ids = torch.tensor([eos_token_location]) \n",
    "print(input_ids.shape)\n",
    "print(mc_token_ids.shape)\n",
    "outputs = model(input_ids, mc_token_ids=mc_token_ids)\n",
    "lm_prediction_scores, mc_prediction_scores = outputs[:2]\n"
   ]
  },
  {
   "cell_type": "code",
   "execution_count": null,
   "id": "33719677-a29c-4fd4-866d-02038c334065",
   "metadata": {
    "tags": []
   },
   "outputs": [],
   "source": [
    "print(lm_prediction_scores.shape)\n",
    "print(mc_prediction_scores.shape)"
   ]
  },
  {
   "cell_type": "code",
   "execution_count": null,
   "id": "92dfcc11-a847-45dd-8eee-e7e8c59e2a67",
   "metadata": {
    "tags": []
   },
   "outputs": [],
   "source": [
    "import wandb, random\n",
    "total_step_num = 1000\n",
    "for step in range(total_step_num):\n",
    "    wandb.log({'random_curve':step/100+random.random()},step=step)\n",
    "    wandb.log({'log_curve': math.log(step+1)},step=step)\n",
    "wandb.finish()"
   ]
  },
  {
   "cell_type": "code",
   "execution_count": null,
   "id": "77f8a4f1-2750-472d-9f5a-f455d1486a9d",
   "metadata": {
    "tags": []
   },
   "outputs": [],
   "source": [
    "wandb.login()"
   ]
  },
  {
   "cell_type": "code",
   "execution_count": null,
   "id": "1e048369-20c7-4126-85f2-fc8f9f9eb082",
   "metadata": {},
   "outputs": [],
   "source": [
    "import random\n",
    "\n",
    "# Launch 5 simulated experiments\n",
    "total_runs = 5\n",
    "for run in range(total_runs):\n",
    "  # 🐝 1️⃣ Start a new run to track this script\n",
    "  wandb.init(\n",
    "      # Set the project where this run will be logged\n",
    "      project=\"wandbexample1\", \n",
    "      # We pass a run name (otherwise it’ll be randomly assigned, like sunshine-lollypop-10)\n",
    "      name=f\"experiment_{run}\", \n",
    "      # Track hyperparameters and run metadata\n",
    "      config={\n",
    "      \"learning_rate\": 0.02,\n",
    "      \"architecture\": \"CNN\",\n",
    "      \"dataset\": \"CIFAR-100\",\n",
    "      \"epochs\": 10,\n",
    "      })\n",
    "  \n",
    "  # This simple block simulates a training loop logging metrics\n",
    "  epochs = 10\n",
    "  offset = random.random() / 5\n",
    "  for epoch in range(2, epochs):\n",
    "      acc = 1 - 2 ** -epoch - random.random() / epoch - offset\n",
    "      loss = 2 ** -epoch + random.random() / epoch + offset\n",
    "      \n",
    "      # 🐝 2️⃣ Log metrics from your script to W&B\n",
    "      wandb.log({\"acc\": acc, \"loss\": loss})\n",
    "      \n",
    "  # Mark the run as finished\n",
    "  wandb.finish()\n",
    "\n"
   ]
  },
  {
   "cell_type": "code",
   "execution_count": null,
   "id": "084745ef-0c3d-4f1b-bca3-34eaeb55f3c3",
   "metadata": {},
   "outputs": [],
   "source": [
    "['model.layers.0.self_attn.o_proj.lora_B', \n",
    " 'model.layers.24.mlp.up_proj.lora_B', \n",
    " 'model.layers.12.mlp.down_proj.lora_B', \n",
    " 'model.layers.8.self_attn.v_proj.lora_A', \n",
    " 'model.layers.12.self_attn.q_proj.lora_B', \n",
    " 'model.layers.21.mlp.up_proj.lora_B', \n",
    " 'model.layers.20.mlp.gate_proj.lora_B', 'model.layers.17.mlp.gate_proj.lora_B', 'model.layers.7.mlp.down_proj.lora_A', 'model.layers.14.mlp.up_proj.lora_A', 'lm_head.lora_A', 'model.layers.28.self_attn.o_proj.lora_A', 'model.layers.19.self_attn.v_proj.lora_A', 'model.layers.8.mlp.up_proj.lora_B', 'model.layers.31.mlp.gate_proj.lora_A', 'model.layers.23.mlp.down_proj.lora_A', 'model.layers.17.self_attn.k_proj.lora_A', 'model.layers.19.self_attn.q_proj.lora_A', 'model.layers.0.mlp.up_proj.lora_B', 'model.layers.15.self_attn.v_proj.lora_B', 'model.layers.5.self_attn.q_proj.lora_B', 'model.layers.20.mlp.up_proj.lora_A', 'model.layers.26.mlp.up_proj.lora_B', 'model.layers.25.self_attn.v_proj.lora_B', 'model.layers.6.mlp.gate_proj.lora_B', 'model.layers.21.self_attn.q_proj.lora_A', 'model.layers.9.self_attn.v_proj.lora_A', 'model.layers.16.mlp.down_proj.lora_A', 'model.layers.17.self_attn.q_proj.lora_B', 'model.layers.0.self_attn.k_proj.lora_A', 'model.layers.4.mlp.down_proj.lora_A', 'model.layers.22.mlp.down_proj.lora_A', 'model.layers.24.mlp.up_proj.lora_A', 'model.layers.3.mlp.down_proj.lora_B', 'model.layers.25.mlp.up_proj.lora_B', 'model.layers.3.self_attn.k_proj.lora_B', 'model.layers.13.mlp.gate_proj.lora_B', 'model.layers.15.mlp.gate_proj.lora_A', 'model.layers.22.self_attn.o_proj.lora_B', 'model.layers.27.self_attn.q_proj.lora_A', 'model.layers.1.self_attn.k_proj.lora_B', 'model.layers.27.mlp.down_proj.lora_A', 'model.layers.30.self_attn.q_proj.lora_A', 'model.layers.20.self_attn.v_proj.lora_A', 'model.layers.13.self_attn.q_proj.lora_A', 'model.layers.30.self_attn.k_proj.lora_A', 'model.layers.9.self_attn.k_proj.lora_B', 'model.layers.17.self_attn.v_proj.lora_A', 'model.layers.17.self_attn.o_proj.lora_B', 'model.layers.24.self_attn.o_proj.lora_A', 'model.layers.31.mlp.gate_proj.lora_B', 'model.layers.1.self_attn.q_proj.lora_A', 'model.layers.24.mlp.down_proj.lora_A', 'model.layers.7.mlp.gate_proj.lora_B', 'model.layers.15.self_attn.k_proj.lora_B', 'model.layers.2.self_attn.k_proj.lora_A', 'model.layers.6.self_attn.k_proj.lora_A', 'model.layers.27.self_attn.o_proj.lora_B', 'model.layers.27.self_attn.v_proj.lora_B', 'model.layers.29.self_attn.k_proj.lora_B', 'model.layers.25.mlp.down_proj.lora_A', 'model.layers.2.mlp.down_proj.lora_A', 'model.layers.14.self_attn.v_proj.lora_B', 'model.layers.29.self_attn.v_proj.lora_A', 'model.layers.26.self_attn.o_proj.lora_A', 'model.layers.25.self_attn.o_proj.lora_B', 'model.layers.14.mlp.down_proj.lora_A', 'model.layers.20.self_attn.k_proj.lora_A', 'model.layers.27.self_attn.q_proj.lora_B', 'model.layers.31.mlp.up_proj.lora_A', 'model.layers.22.mlp.down_proj.lora_B', 'model.layers.7.self_attn.o_proj.lora_A', 'model.layers.8.self_attn.o_proj.lora_B', 'model.layers.2.self_attn.k_proj.lora_B', 'model.layers.15.self_attn.q_proj.lora_B', 'model.layers.23.self_attn.q_proj.lora_A', 'model.layers.3.mlp.up_proj.lora_B', 'model.layers.7.self_attn.k_proj.lora_B', 'model.layers.5.self_attn.v_proj.lora_B', 'model.layers.20.self_attn.q_proj.lora_B', 'model.layers.7.self_attn.v_proj.lora_B', 'model.layers.11.self_attn.o_proj.lora_B', 'model.layers.31.mlp.up_proj.lora_B', 'model.layers.15.self_attn.k_proj.lora_A', 'model.layers.22.mlp.gate_proj.lora_B', 'model.layers.16.self_attn.q_proj.lora_A', 'model.layers.4.mlp.gate_proj.lora_B', 'model.layers.11.self_attn.v_proj.lora_A', 'model.layers.19.mlp.gate_proj.lora_A', 'model.layers.3.self_attn.k_proj.lora_A', 'model.layers.0.mlp.gate_proj.lora_B', 'model.layers.0.mlp.down_proj.lora_B', 'model.layers.17.self_attn.k_proj.lora_B', 'model.layers.29.self_attn.k_proj.lora_A', 'model.layers.6.self_attn.k_proj.lora_B', 'model.layers.26.mlp.up_proj.lora_A', 'model.layers.12.self_attn.k_proj.lora_B', 'model.layers.7.self_attn.q_proj.lora_A', 'model.layers.4.mlp.down_proj.lora_B', 'model.layers.18.self_attn.o_proj.lora_B', 'model.layers.24.self_attn.o_proj.lora_B', 'model.layers.10.self_attn.o_proj.lora_A', 'model.layers.22.self_attn.q_proj.lora_B', 'model.layers.27.self_attn.v_proj.lora_A', 'model.layers.5.self_attn.v_proj.lora_A', 'model.layers.24.mlp.gate_proj.lora_B', 'model.layers.15.mlp.up_proj.lora_B', 'model.layers.26.self_attn.v_proj.lora_B', 'model.layers.23.mlp.up_proj.lora_B', 'model.layers.30.mlp.up_proj.lora_A', 'model.layers.4.self_attn.q_proj.lora_B', 'model.layers.8.mlp.gate_proj.lora_A', 'model.layers.21.mlp.gate_proj.lora_B', 'model.layers.22.self_attn.v_proj.lora_B', 'model.layers.23.self_attn.q_proj.lora_B', 'model.layers.11.mlp.gate_proj.lora_B', 'model.layers.25.mlp.gate_proj.lora_A', 'model.layers.6.self_attn.q_proj.lora_A', 'model.layers.6.mlp.up_proj.lora_A', 'model.layers.6.mlp.down_proj.lora_B', 'model.layers.8.self_attn.k_proj.lora_B', 'model.layers.21.self_attn.o_proj.lora_A', 'model.layers.23.self_attn.o_proj.lora_A', 'model.layers.9.mlp.down_proj.lora_A', 'model.layers.7.mlp.gate_proj.lora_A', 'model.layers.26.self_attn.k_proj.lora_A', 'model.layers.7.self_attn.q_proj.lora_B', 'model.layers.0.mlp.up_proj.lora_A', 'model.layers.28.self_attn.v_proj.lora_B', 'model.layers.18.mlp.down_proj.lora_A', 'model.layers.11.mlp.up_proj.lora_A', 'model.layers.12.self_attn.o_proj.lora_A', 'model.layers.2.mlp.up_proj.lora_B', 'model.layers.1.mlp.up_proj.lora_B', 'model.layers.14.self_attn.q_proj.lora_A', 'model.layers.30.mlp.down_proj.lora_A', 'model.layers.13.mlp.gate_proj.lora_A', 'model.layers.5.mlp.down_proj.lora_B', 'model.layers.26.mlp.down_proj.lora_B', 'model.layers.23.self_attn.v_proj.lora_B', 'model.layers.22.mlp.up_proj.lora_B', 'model.layers.24.self_attn.k_proj.lora_A', 'model.layers.16.self_attn.q_proj.lora_B', 'model.layers.2.self_attn.v_proj.lora_B', 'model.layers.28.mlp.up_proj.lora_A', 'model.layers.3.self_attn.q_proj.lora_B', 'model.layers.25.self_attn.k_proj.lora_B', 'model.layers.14.mlp.up_proj.lora_B', 'model.layers.25.mlp.up_proj.lora_A', 'model.layers.8.mlp.down_proj.lora_B', 'model.layers.16.self_attn.k_proj.lora_B', 'model.layers.23.self_attn.k_proj.lora_B', 'model.layers.31.self_attn.o_proj.lora_B', 'model.layers.15.mlp.gate_proj.lora_B', 'model.layers.1.mlp.gate_proj.lora_B', 'model.layers.23.self_attn.v_proj.lora_A', 'model.layers.12.mlp.gate_proj.lora_A', 'model.layers.28.mlp.gate_proj.lora_A', 'model.layers.9.mlp.down_proj.lora_B', 'model.layers.19.self_attn.q_proj.lora_B', 'model.layers.29.self_attn.q_proj.lora_A', 'model.layers.25.mlp.gate_proj.lora_B', 'model.layers.20.mlp.up_proj.lora_B', 'model.layers.3.self_attn.o_proj.lora_A', 'model.layers.29.mlp.gate_proj.lora_B', 'model.layers.26.self_attn.o_proj.lora_B', 'model.layers.3.self_attn.o_proj.lora_B', 'model.layers.6.mlp.down_proj.lora_A', 'model.layers.7.mlp.down_proj.lora_B', 'model.layers.28.mlp.down_proj.lora_A', 'model.layers.11.self_attn.k_proj.lora_A', 'model.layers.15.mlp.down_proj.lora_B', 'model.layers.23.mlp.gate_proj.lora_B', 'model.layers.2.self_attn.q_proj.lora_B', 'model.layers.4.mlp.up_proj.lora_A', 'model.layers.21.self_attn.k_proj.lora_A', 'model.layers.16.self_attn.v_proj.lora_B', 'model.layers.31.self_attn.q_proj.lora_B', 'model.layers.16.mlp.down_proj.lora_B', 'model.layers.13.mlp.up_proj.lora_B', 'model.layers.24.self_attn.v_proj.lora_A', 'model.layers.1.mlp.gate_proj.lora_A', 'model.layers.15.self_attn.v_proj.lora_A', 'model.layers.13.mlp.up_proj.lora_A', 'model.layers.16.mlp.up_proj.lora_B', 'model.layers.20.mlp.down_proj.lora_A', 'model.layers.27.mlp.down_proj.lora_B', 'model.layers.11.self_attn.v_proj.lora_B', 'model.layers.16.mlp.gate_proj.lora_A', 'model.layers.25.self_attn.q_proj.lora_B', 'model.layers.15.self_attn.o_proj.lora_B', 'model.layers.12.mlp.up_proj.lora_B', 'model.layers.21.self_attn.k_proj.lora_B', 'model.layers.8.mlp.up_proj.lora_A', 'model.layers.5.mlp.gate_proj.lora_A', 'model.layers.17.self_attn.o_proj.lora_A', 'model.layers.31.mlp.down_proj.lora_A', 'model.layers.25.self_attn.v_proj.lora_A', 'model.layers.15.mlp.down_proj.lora_A', 'model.layers.21.self_attn.v_proj.lora_A', 'model.layers.27.mlp.up_proj.lora_A', 'model.layers.14.self_attn.o_proj.lora_B', 'model.layers.10.self_attn.q_proj.lora_B', 'model.layers.14.self_attn.q_proj.lora_B', 'model.layers.13.self_attn.o_proj.lora_A', 'model.layers.7.self_attn.o_proj.lora_B', 'model.layers.11.mlp.up_proj.lora_B', 'model.layers.9.mlp.gate_proj.lora_B', 'model.layers.27.self_attn.k_proj.lora_B', 'model.layers.29.mlp.down_proj.lora_B', 'model.layers.13.self_attn.k_proj.lora_A', 'model.layers.30.mlp.down_proj.lora_B', 'model.layers.11.mlp.gate_proj.lora_A', 'model.layers.1.self_attn.o_proj.lora_A', 'model.layers.17.self_attn.q_proj.lora_A', 'model.layers.10.self_attn.v_proj.lora_A', 'model.layers.4.self_attn.q_proj.lora_A', 'model.layers.13.self_attn.q_proj.lora_B', 'model.layers.23.self_attn.o_proj.lora_B', 'model.layers.5.self_attn.o_proj.lora_B', 'model.layers.23.mlp.gate_proj.lora_A', 'model.layers.18.self_attn.k_proj.lora_A', 'model.layers.16.self_attn.k_proj.lora_A', 'model.layers.24.mlp.gate_proj.lora_A', 'model.layers.1.self_attn.o_proj.lora_B', 'model.layers.4.self_attn.v_proj.lora_B', 'model.layers.23.mlp.up_proj.lora_A', 'model.layers.30.mlp.gate_proj.lora_B', 'model.layers.1.mlp.down_proj.lora_B', 'model.layers.17.mlp.gate_proj.lora_A', 'model.layers.20.self_attn.q_proj.lora_A', 'model.layers.9.mlp.gate_proj.lora_A', 'model.layers.13.mlp.down_proj.lora_A', 'model.layers.2.self_attn.o_proj.lora_B', 'model.layers.21.self_attn.o_proj.lora_B', 'model.layers.4.self_attn.k_proj.lora_B', 'model.layers.25.mlp.down_proj.lora_B', 'model.layers.16.self_attn.o_proj.lora_A', 'model.layers.30.self_attn.q_proj.lora_B', 'model.layers.7.self_attn.v_proj.lora_A', 'model.layers.9.self_attn.q_proj.lora_B', 'model.layers.18.self_attn.v_proj.lora_B', 'model.layers.16.self_attn.v_proj.lora_A', 'model.layers.23.mlp.down_proj.lora_B', 'model.layers.11.self_attn.q_proj.lora_A', 'model.layers.1.mlp.up_proj.lora_A', 'model.layers.19.self_attn.o_proj.lora_B', 'model.layers.29.mlp.gate_proj.lora_A', 'model.layers.31.self_attn.k_proj.lora_B', 'model.layers.28.mlp.up_proj.lora_B', 'model.layers.25.self_attn.o_proj.lora_A', 'model.layers.7.mlp.up_proj.lora_B', 'model.layers.12.self_attn.v_proj.lora_B', 'model.layers.29.self_attn.q_proj.lora_B', 'model.layers.9.self_attn.v_proj.lora_B', 'model.layers.19.mlp.up_proj.lora_B', 'model.layers.10.mlp.up_proj.lora_A', 'model.layers.6.self_attn.v_proj.lora_A', 'model.layers.14.self_attn.o_proj.lora_A', 'model.layers.23.self_attn.k_proj.lora_A', 'model.layers.14.self_attn.v_proj.lora_A', 'model.layers.8.mlp.down_proj.lora_A', 'model.layers.2.mlp.gate_proj.lora_A', 'model.layers.13.mlp.down_proj.lora_B', 'model.layers.22.self_attn.q_proj.lora_A', 'model.layers.8.self_attn.q_proj.lora_A', 'model.layers.13.self_attn.o_proj.lora_B', 'model.layers.30.self_attn.o_proj.lora_A', 'model.layers.28.self_attn.q_proj.lora_A', 'model.layers.12.mlp.down_proj.lora_A', 'model.layers.9.self_attn.o_proj.lora_A', 'model.layers.31.self_attn.v_proj.lora_B', 'model.layers.31.self_attn.o_proj.lora_A', 'model.layers.1.self_attn.v_proj.lora_B', 'model.layers.20.mlp.gate_proj.lora_A', 'model.layers.6.self_attn.v_proj.lora_B', 'model.layers.17.mlp.down_proj.lora_A', 'model.layers.10.mlp.gate_proj.lora_A', 'model.layers.11.mlp.down_proj.lora_A', 'model.layers.3.self_attn.v_proj.lora_B', 'model.layers.11.self_attn.o_proj.lora_A', 'model.layers.20.mlp.down_proj.lora_B', 'model.layers.18.mlp.gate_proj.lora_B', 'model.layers.15.mlp.up_proj.lora_A', 'model.layers.31.self_attn.k_proj.lora_A', 'model.layers.10.self_attn.k_proj.lora_B', 'model.layers.30.mlp.gate_proj.lora_A', 'model.layers.25.self_attn.q_proj.lora_A', 'model.layers.3.self_attn.v_proj.lora_A', 'model.layers.18.mlp.up_proj.lora_B', 'model.layers.7.mlp.up_proj.lora_A', 'model.layers.19.self_attn.k_proj.lora_B', 'model.layers.20.self_attn.k_proj.lora_B', 'model.layers.8.mlp.gate_proj.lora_B', 'model.layers.19.mlp.down_proj.lora_B', 'model.layers.31.self_attn.v_proj.lora_A', 'model.layers.6.self_attn.o_proj.lora_A', 'model.layers.0.mlp.down_proj.lora_A', 'model.layers.19.mlp.up_proj.lora_A', 'model.layers.22.self_attn.v_proj.lora_A', 'model.layers.26.self_attn.q_proj.lora_B', 'model.layers.20.self_attn.o_proj.lora_B', 'model.layers.24.mlp.down_proj.lora_B', 'model.layers.25.self_attn.k_proj.lora_A', 'model.layers.26.self_attn.q_proj.lora_A', 'model.layers.21.mlp.down_proj.lora_A', 'model.layers.4.self_attn.o_proj.lora_B', 'model.layers.28.self_attn.k_proj.lora_B', 'model.layers.26.mlp.gate_proj.lora_A', 'model.layers.11.mlp.down_proj.lora_B', 'model.layers.10.self_attn.v_proj.lora_B', 'model.layers.3.self_attn.q_proj.lora_A', 'model.layers.2.self_attn.o_proj.lora_A', 'model.layers.10.self_attn.o_proj.lora_B', 'model.layers.26.mlp.down_proj.lora_A', 'model.layers.0.self_attn.v_proj.lora_B', 'model.layers.5.self_attn.k_proj.lora_B', 'model.layers.3.mlp.down_proj.lora_A', 'model.layers.22.self_attn.k_proj.lora_A', 'model.layers.29.mlp.down_proj.lora_A', 'model.layers.0.self_attn.q_proj.lora_A', 'model.layers.0.mlp.gate_proj.lora_A', 'model.layers.17.mlp.down_proj.lora_B', 'model.layers.2.self_attn.q_proj.lora_A', 'model.layers.9.mlp.up_proj.lora_B', 'model.layers.17.mlp.up_proj.lora_A', 'model.layers.2.mlp.up_proj.lora_A', 'model.layers.19.self_attn.v_proj.lora_B', 'model.layers.31.self_attn.q_proj.lora_A', 'model.layers.2.mlp.down_proj.lora_B', 'model.layers.15.self_attn.o_proj.lora_A', 'model.layers.1.mlp.down_proj.lora_A', 'model.layers.2.self_attn.v_proj.lora_A', 'model.layers.12.self_attn.o_proj.lora_B', 'model.layers.29.self_attn.o_proj.lora_A', 'model.layers.12.mlp.up_proj.lora_A', 'model.layers.19.mlp.gate_proj.lora_B', 'model.layers.8.self_attn.k_proj.lora_A', 'model.layers.27.mlp.gate_proj.lora_A', 'model.layers.29.mlp.up_proj.lora_B', 'model.layers.0.self_attn.q_proj.lora_B', 'model.layers.11.self_attn.q_proj.lora_B', 'model.layers.12.self_attn.k_proj.lora_A', 'model.layers.12.self_attn.v_proj.lora_A', 'model.layers.6.self_attn.q_proj.lora_B', 'model.layers.21.self_attn.v_proj.lora_B', 'model.layers.1.self_attn.k_proj.lora_A', 'model.layers.15.self_attn.q_proj.lora_A', 'model.layers.3.mlp.gate_proj.lora_A', 'model.layers.0.self_attn.o_proj.lora_A', 'model.layers.12.self_attn.q_proj.lora_A', 'model.layers.18.mlp.down_proj.lora_B', 'model.layers.16.mlp.up_proj.lora_A', 'model.layers.16.self_attn.o_proj.lora_B', 'model.layers.8.self_attn.o_proj.lora_A', 'model.layers.19.self_attn.o_proj.lora_A', 'model.layers.26.self_attn.k_proj.lora_B', 'model.layers.14.mlp.down_proj.lora_B', 'model.layers.31.mlp.down_proj.lora_B', 'model.layers.4.self_attn.o_proj.lora_A', 'model.layers.8.self_attn.q_proj.lora_B', 'model.layers.4.mlp.gate_proj.lora_A', 'model.layers.5.mlp.down_proj.lora_A', 'model.layers.9.self_attn.k_proj.lora_A', 'model.layers.5.mlp.up_proj.lora_B', 'model.layers.30.self_attn.o_proj.lora_B', 'model.layers.6.mlp.up_proj.lora_B', 'model.layers.24.self_attn.q_proj.lora_B', 'model.layers.28.mlp.gate_proj.lora_B', 'model.layers.8.self_attn.v_proj.lora_B', 'model.layers.22.mlp.up_proj.lora_A', 'model.layers.22.self_attn.o_proj.lora_A', 'model.layers.5.self_attn.k_proj.lora_A', 'model.layers.5.mlp.up_proj.lora_A', 'model.layers.24.self_attn.q_proj.lora_A', 'model.layers.28.mlp.down_proj.lora_B', 'model.layers.3.mlp.gate_proj.lora_B', 'model.layers.3.mlp.up_proj.lora_A', 'model.layers.2.mlp.gate_proj.lora_B', 'model.layers.18.self_attn.o_proj.lora_A', 'model.layers.28.self_attn.o_proj.lora_B', 'model.layers.18.mlp.up_proj.lora_A', 'model.layers.16.mlp.gate_proj.lora_B', 'model.layers.4.mlp.up_proj.lora_B', 'model.layers.18.self_attn.k_proj.lora_B', 'model.layers.28.self_attn.q_proj.lora_B', 'model.layers.5.self_attn.q_proj.lora_A', 'model.layers.10.mlp.down_proj.lora_B', 'model.layers.21.mlp.down_proj.lora_B', 'model.layers.24.self_attn.k_proj.lora_B', 'model.layers.27.self_attn.k_proj.lora_A', 'model.layers.13.self_attn.k_proj.lora_B', 'model.layers.10.mlp.down_proj.lora_A', 'model.layers.21.mlp.gate_proj.lora_A', 'model.layers.10.mlp.up_proj.lora_B', 'model.layers.14.self_attn.k_proj.lora_B', 'model.layers.27.mlp.gate_proj.lora_B', 'model.layers.6.self_attn.o_proj.lora_B', 'model.layers.1.self_attn.q_proj.lora_B', 'model.layers.29.self_attn.o_proj.lora_B', 'model.layers.29.mlp.up_proj.lora_A', 'model.layers.30.self_attn.k_proj.lora_B', 'model.layers.5.mlp.gate_proj.lora_B', 'lm_head.lora_B', 'model.layers.0.self_attn.k_proj.lora_B', 'model.layers.24.self_attn.v_proj.lora_B', 'model.layers.13.self_attn.v_proj.lora_B', 'model.layers.18.self_attn.q_proj.lora_B', 'model.layers.12.mlp.gate_proj.lora_B', 'model.layers.6.mlp.gate_proj.lora_A', 'model.layers.9.self_attn.q_proj.lora_A', 'model.layers.5.self_attn.o_proj.lora_A', 'model.layers.1.self_attn.v_proj.lora_A', 'model.layers.27.mlp.up_proj.lora_B', 'model.layers.11.self_attn.k_proj.lora_B', 'model.layers.28.self_attn.v_proj.lora_A', 'model.layers.30.self_attn.v_proj.lora_A', 'model.layers.4.self_attn.k_proj.lora_A', 'model.layers.0.self_attn.v_proj.lora_A', 'model.layers.18.self_attn.v_proj.lora_A', 'model.layers.18.self_attn.q_proj.lora_A', 'model.layers.30.self_attn.v_proj.lora_B', 'model.layers.30.mlp.up_proj.lora_B', 'model.layers.9.self_attn.o_proj.lora_B', 'model.layers.20.self_attn.v_proj.lora_B', 'model.layers.7.self_attn.k_proj.lora_A', 'model.layers.19.mlp.down_proj.lora_A', 'model.layers.18.mlp.gate_proj.lora_A', 'model.layers.26.mlp.gate_proj.lora_B', 'model.layers.17.self_attn.v_proj.lora_B', 'model.layers.4.self_attn.v_proj.lora_A', 'model.layers.28.self_attn.k_proj.lora_A', 'model.layers.14.mlp.gate_proj.lora_B', 'model.layers.21.mlp.up_proj.lora_A', 'model.layers.14.self_attn.k_proj.lora_A', 'model.layers.29.self_attn.v_proj.lora_B', 'model.layers.10.mlp.gate_proj.lora_B', 'model.layers.20.self_attn.o_proj.lora_A', 'model.layers.10.self_attn.q_proj.lora_A', 'model.layers.17.mlp.up_proj.lora_B', 'model.layers.26.self_attn.v_proj.lora_A', 'model.layers.13.self_attn.v_proj.lora_A', 'model.layers.27.self_attn.o_proj.lora_A', 'model.layers.22.self_attn.k_proj.lora_B', 'model.layers.21.self_attn.q_proj.lora_B', 'model.layers.9.mlp.up_proj.lora_A', 'model.layers.14.mlp.gate_proj.lora_A', 'model.layers.22.mlp.gate_proj.lora_A', 'model.layers.19.self_attn.k_proj.lora_A', 'model.layers.10.self_attn.k_proj.lora_A']"
   ]
  },
  {
   "cell_type": "code",
   "execution_count": null,
   "id": "1cb6354a-4dd8-433d-a674-aff21cbab151",
   "metadata": {},
   "outputs": [],
   "source": [
    " yes , i love fresh veggies . what do you do for a living ?\n",
    "--------------------------------------------------\n",
    " i don't have any pets , but i do travel a lot . i go to europe twice a year .\n",
    "--------------------------------------------------\n",
    " i travel to europe twice a year . do you have any family ?\n",
    "--------------------------------------------------\n",
    " my weekends are great , i go to europe twice a year .\n",
    "--------------------------------------------------\n",
    " i try to go at least once a year . do you have family ?\n",
    "--------------------------------------------------\n",
    " i've been to australia twice , it is beautiful . do you have family there ?\n",
    "--------------------------------------------------\n",
    " i do , i love to walk with my family . i am a descendant of christopher columbus .\n",
    "--------------------------------------------------\n",
    "274s elapsed: {'exs': 2194, '%done': '28.12%', 'time_left': '702s', 'f1': 0.2204, 'bleu': 0.01586}\n",
    " i am doing well . how are you ?\n",
    "--------------------------------------------------"
   ]
  },
  {
   "cell_type": "code",
   "execution_count": null,
   "id": "58047499-fdc2-403f-867a-cd011a359bf4",
   "metadata": {},
   "outputs": [],
   "source": [
    "--------------------------------------------------\n",
    "4738s elapsed: {'exs': 397, '%done': '5.09%', 'time_left': '88367s', 'f1': 0.03384, 'bleu': 0.0006517}\n",
    "<latent><persona> two dogs live with me. i've short hair. i like doing the treadmill and rowing machine. i go to the gym regularly.<query> hello , my name is leon . i am a audio engineer . how are you ?<response> hello , leon . my dogs and i are doing well .<query> that is good to hear ! i've been better , my girlfriend just left me .<response> oh no . i go to the gym a lot . the treadmill keeps my mind off things .<query> i tend to stick indoors but maybe the gym will help , thanks .<response> you are most welcome . the rowing machine is nice too .<query> that's a full body work out right there . do you live in california ? The 2018-19 school year is off to a great start! We are excited to welcome our new students and families to the school and to welcome back our returning students and families.\n",
    "We are looking forward to a great year of learning and growing together.\n",
    "Please take a moment to review the information below and the links to the left.\n",
    "If you have any questions, please contact the school office at 780-467-2200.\n",
    "The school office is open from 8:00 am to 4:00 pm.\n",
    "The school office is closed for lunch from 12:00 pm to 12:30 pm.\n",
    "The school office is closed for lunch from 12:00 pm to 12:30 pm.\n",
    "The school office is closed for lunch from 12:00 pm to 12:30 pm.\n",
    "The school office is closed for lunch from 12:00 pm to 12:30 pm.\n",
    "The school office is closed for lunch from 12:00 pm to 12:30 pm.\n",
    "The school office is closed for lunch from 12:00 pm to 12:30 pm.\n",
    "The school office is closed for lunch from 12:00 pm to 12:30 pm.\n",
    "The school office is closed for lunch from 12:00 pm to 12:30 pm.\n",
    "The school office is closed for lunch\n",
    "--------------------------------------------------\n",
    "4749s elapsed: {'exs': 398, '%done': '5.10%', 'time_left': '88351s', 'f1': 0.03387, 'bleu': 0.0006797}\n",
    "<latent><persona> two dogs live with me. i've short hair. i like doing the treadmill and rowing machine. i go to the gym regularly.<query> hello , my name is leon . i am a audio engineer . how are you ?<response> hello , leon . my dogs and i are doing well .<query> that is good to hear ! i've been better , my girlfriend just left me .<response> oh no . i go to the gym a lot . the treadmill keeps my mind off things .<query> i tend to stick indoors but maybe the gym will help , thanks .<response> you are most welcome . the rowing machine is nice too .<query> that's a full body work out right there . do you live in california ?<response> sadly , no . my dogs and i are in ohio .<query> i think i need to move . my studio is tanking after the decline of the market . The 2018-19 school year is off to a great start! We are excited to welcome our new students and families to the school and to welcome back our returning students and families.\n",
    "We are looking forward to a great year of learning and growing together.\n",
    "Please take a moment to review the information below and the links to the left.\n",
    "The first day of school is Tuesday, September 4th.\n",
    "The first day of school for students is Tuesday, September 4th.\n",
    "The first day of school for students is Wednesday, September 5th.\n",
    "The first day of school for students is Thursday, September 6th.\n",
    "The first day of school for students is Friday, September 7th.\n",
    "The first day of school for students is Monday, September 10th.\n",
    "The first day of school for students is Tuesday, September 111th.\n",
    "The first day of school for students is Wednesday, September 12th.\n",
    "The first day of school for students is Thursday, September 13th.\n",
    "The first day of school for students is Friday, September 14th.\n",
    "The first day of school for students is Monday, September 17th.\n",
    "The first day of school for students is Tuesday, September 18th.\n",
    "The first day of school for students is Wednesday,\n",
    "--------------------------------------------------\n",
    "4760s elapsed: {'exs': 399, '%done': '5.11%', 'time_left': '88312s', 'f1': 0.03386, 'bleu': 0.000678}\n",
    "<latent><persona> two dogs live with me. i've short hair. i like doing the treadmill and rowing machine. i go to the gym regularly.<query> hello , my name is leon . i am a audio engineer . how are you ?<response> hello , leon . my dogs and i are doing well .<query> that is good to hear ! i've been better , my girlfriend just left me .<response> oh no . i go to the gym a lot . the treadmill keeps my mind off things .<query> i tend to stick indoors but maybe the gym will help , thanks .<response> you are most welcome . the rowing machine is nice too .<query> that's a full body work out right there . do you live in california ?<response> sadly , no . my dogs and i are in ohio .<query> i think i need to move . my studio is tanking after the decline of the market .<response> oh no . i'm moving soon as well . due to personal reasons .<query> well i hope your reasons work themselves out . what kind of dogs do you have ? The 2018-19 school year is off to a great start! We are excited to welcome our new students and families to the school and to welcome back our returning students and families.\n",
    "We are looking forward to a great year of learning and growing together.\n",
    "Please take a moment to review the information below and the links to the left.\n",
    "The first day of school is Tuesday, September 4th.\n",
    "The first day of school for students is Tuesday, September 4th.\n",
    "The first day of school for students is Tuesday, September 4th. The first day of school for teachers is Monday, September 3rd.\n",
    "The first day of school for students is Tuesday, September 4th. The first day of school for teachers is Monday, September 3rd.\n",
    "The first day of school for students is Tuesday, September 4th. The first day of school for teachers is Monday, September 3rd. The first day of school for teachers is Monday, September 3rd.\n",
    "The first day of school for students is Tuesday, September 4th. The first day of school for teachers is Monday, September 3rd. The first day of school for teachers is Monday\n",
    "--------------------------------------------------\n",
    "4769s elapsed: {'exs': 400, '%done': '5.13%', 'time_left': '88251s', 'f1': 0.03386, 'bleu': 0.0006763}\n",
    "<latent><persona> two dogs live with me. i've short hair. i like doing the treadmill and rowing machine. i go to the gym regularly.<query> hello , my name is leon . i am a audio engineer . how are you ?<response> hello , leon . my dogs and i are doing well .<query> that is good to hear ! i've been better , my girlfriend just left me .<response> oh no . i go to the gym a lot . the treadmill keeps my mind off things .<query> i tend to stick indoors but maybe the gym will help , thanks .<response> you are most welcome . the rowing machine is nice too .<query> that's a full body work out right there . do you live in california ?<response> sadly , no . my dogs and i are in ohio .<query> i think i need to move . my studio is tanking after the decline of the market .<response> oh no . i'm moving soon as well . due to personal reasons .<query> well i hope your reasons work themselves out . what kind of dogs do you have ?<response> i've a springer spaniel and a lab . do you have pets ?<query> sadly no , they can be very destructive in an audio booth . The 2018-19 school year is off to a great start! We are excited to welcome our new students and families to the school and to welcome back our returning students and families.\n",
    "We are looking forward to a great year of learning and growing together.\n",
    "Please take a moment to review the information below and the links to the left.\n",
    "The first day of school is Tuesday, September 4th.\n",
    "The first day of school for students is Tuesday, September 4th.\n",
    "The first day of school for students is Tuesday, September 4th. The first day of school for students is Tuesday, September 4th.\n",
    "The first day of school for students is Tuesday, September 4th. The first day of school for students is Tuesday, September 4th.\n",
    "The first day of school for students is Tuesday, September 4th. The first day of school for students is Tuesday, September 4th. The first day of school for students is Tuesday, September\n",
    "--------------------------------------------------"
   ]
  },
  {
   "cell_type": "code",
   "execution_count": null,
   "id": "c6591f25-f5fb-4bf3-b05d-5896addaaa57",
   "metadata": {},
   "outputs": [],
   "source": [
    "{'input_ids': tensor([[  366,  1818,   367,  1407,  5172,   869, 29826,   338,   697,   310,\n",
    "           590, 25448,   298, 20838,   583,   869,     2,     0,     0,     0,\n",
    "             0,     0,     0,     0,     0,     0,     0,     0],\n",
    "        [  474,   884,  1083, 27224, 17774,   746,   474,   626,   451,   714,\n",
    "         12580, 29826,   869,     2,     0,     0,     0,     0,     0,     0,\n",
    "             0,     0,     0,     0,     0,     0,     0,     0]]), 'labels': tensor([[  366,  1818,   367,  1407,  5172,   869, 29826,   338,   697,   310,\n",
    "           590, 25448,   298, 20838,   583,   869,     2,     0,     0,     0,\n",
    "             0,     0,     0,     0,     0,     0,     0,     0],\n",
    "        [  474,   884,  1083, 27224, 17774,   746,   474,   626,   451,   714,\n",
    "         12580, 29826,   869,     2,     0,     0,     0,     0,     0,     0,\n",
    "             0,     0,     0,     0,     0,     0,     0,     0]])}"
   ]
  },
  {
   "cell_type": "code",
   "execution_count": null,
   "id": "b915c5f7-086c-4078-9001-a88a42f3319f",
   "metadata": {},
   "outputs": [],
   "source": [
    "tensor([[32004, 32005,   474,  1303, 10081,  8277,   263,  1629, 29889, 32000,\n",
    "           474, 29915, 29885,   263,   380,  1657,  3765,   408,   590,  1473,\n",
    "          4982, 29889, 32000,   474,   871, 17545,   413,   359,  2276, 29889,\n",
    "         32000,   474,   471, 10425,   297,   263,  2323,  3847, 22329, 29889,\n",
    "         32000, 32002, 22172,   825,   526,  2599,  9826,  1577,     2]],\n",
    "       device='cuda:0')\n",
    "-------------------------\n",
    "tensor([[32004, 32005,   474,  1303, 10081,  8277,   263,  1629, 29889, 32000,\n",
    "           474, 29915, 29885,   263,   380,  1657,  3765,   408,   590,  1473,\n",
    "          4982, 29889, 32000,   474,   871, 17545,   413,   359,  2276, 29889,\n",
    "         32000,   474,   471, 10425,   297,   263,  2323,  3847, 22329, 29889,\n",
    "         32000, 32002, 22172,   825,   526,  2599,  9826,  1577,     2,     1,\n",
    "         29871, 29906, 29900, 29896, 29955,   379, 14287,   315,   440,   293,\n",
    "         20951,   273,   363, 14686,   472, 11133,   624, 29899, 16046,   814,\n",
    "         29991, 11562, 19583,  4195, 29892,   472,   263,  2107,  8666, 29991,\n",
    "            13,  3492,   508,  1436,   749,   596, 29871, 29906, 29900, 29896,\n",
    "         29955,   379, 14287,   315,   440,   293, 20951,   273,  1286, 29991,\n",
    "            13,  3492,   508,  5948,  5445, 29899,   449,   263, 16200,  2009,\n",
    "           373,   445, 29871, 29906, 29900, 29896, 29955,   379, 14287,   315,\n",
    "           440,   293, 20951,   273,   322,   367,   758, 29899,  9961,  1490,\n",
    "          2629, 29871, 29906, 29900,  6233, 29991,  7370,  1286,  3045, 29871,\n",
    "         29896, 29900, 29900, 29995, 28268,  1490, 29892, 29871, 29896, 29900,\n",
    "         29900, 29995, 22688, 29991,     2]], device='cuda:0')\n",
    "--------------------------------------------------\n",
    "<latent><persona> i read twenty books a year. i'm a stunt double as my second job. i only eat kosher. i was raised in a single parent household.<query> hello what are doing today ? 2017 Honda Civic Sedan for sale at Auto St-Hubert! Amazing condition, at a great price!\n",
    "You can finance your 2017 Honda Civic Sedan now!\n",
    "You can easily fill-out a credit request on this 2017 Honda Civic Sedan and be pre-approved within 20 minutes! Start now.... 100% Approved, 100% guaranteed!"
   ]
  }
 ],
 "metadata": {
  "kernelspec": {
   "display_name": "Python 3 (ipykernel)",
   "language": "python",
   "name": "python3"
  },
  "language_info": {
   "codemirror_mode": {
    "name": "ipython",
    "version": 3
   },
   "file_extension": ".py",
   "mimetype": "text/x-python",
   "name": "python",
   "nbconvert_exporter": "python",
   "pygments_lexer": "ipython3",
   "version": "3.10.10"
  }
 },
 "nbformat": 4,
 "nbformat_minor": 5
}
