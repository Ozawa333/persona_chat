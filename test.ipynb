{
 "cells": [
  {
   "cell_type": "code",
   "execution_count": 3,
   "id": "965a0921-c4ba-45a8-8a8c-7ed74c7e4cd7",
   "metadata": {
    "tags": []
   },
   "outputs": [],
   "source": [
    "import torch\n",
    "import transformers \n",
    "from transformers import AutoTokenizer, OPTForCausalLM\n",
    "\n",
    "tokenizer = AutoTokenizer.from_pretrained('./checkpoint_llama2_twodata/step1/epoch1_persona_8e6_1e5')\n",
    "#model_checkpoint = OPTForCausalLM.from_pretrained('./checkpoint_opt1.3Biml/step1/epoch5')\n",
    "#state_dict = torch.load('./checkpoint_opt1.3Biml/step3/epoch2/rmpersona.pt', map_location='cpu')\n",
    "#model_checkpoint.load_state_dict(state_dict, strict=False)"
   ]
  },
  {
   "cell_type": "code",
   "execution_count": null,
   "id": "214c0d05-7cb7-4cf9-92c6-f0d86d6244eb",
   "metadata": {
    "tags": []
   },
   "outputs": [],
   "source": [
    "if tokenizer.sep_token_id == None:\n",
    "    print(1)"
   ]
  },
  {
   "cell_type": "code",
   "execution_count": null,
   "id": "215d430d-5474-4acc-bd7b-4ea69809dc6c",
   "metadata": {
    "tags": []
   },
   "outputs": [],
   "source": [
    "from torch.nn.utils.rnn import pad_sequence\n",
    "import torch\n",
    "import numpy as np\n",
    "import transformers \n",
    "from transformers import AutoTokenizer\n",
    "from transformers import LlamaForCausalLM\n"
   ]
  },
  {
   "cell_type": "code",
   "execution_count": null,
   "id": "5441c520-ed41-4fd0-bc02-0ccee6dcf73d",
   "metadata": {
    "tags": []
   },
   "outputs": [],
   "source": [
    "tokenizer = AutoTokenizer.from_pretrained(\"bigscience/bloom-1b7\")\n",
    "#tokenizer = AutoTokenizer.from_pretrained(\"facebook/opt-350m\",)\n",
    "#model = LlamaForCausalLM.from_pretrained(\"./checkpoint/llama_7B\")"
   ]
  },
  {
   "cell_type": "code",
   "execution_count": 4,
   "id": "7342c4ef-0678-473f-99a8-6add42e3ca76",
   "metadata": {
    "tags": []
   },
   "outputs": [
    {
     "data": {
      "text/plain": [
       "'\\nspecial_tokens_dict = {\"sep_token\": \"</sep>\"}\\ntokenizer.add_special_tokens(special_tokens_dict)\\ntokenizer.add_tokens([\\'<query>\\', \\'<response>\\', \\'<latent>\\', \\'<persona>\\'])\\n'"
      ]
     },
     "execution_count": 4,
     "metadata": {},
     "output_type": "execute_result"
    }
   ],
   "source": [
    "\n",
    "tokenizer.bos_token = '<s>'\n",
    "tokenizer.eos_token = '</s>'\n",
    "special_tokens_dict = {\"sep_token\": \"</sep>\", \"pad_token\": \"<pad>\"}\n",
    "tokenizer.add_special_tokens(special_tokens_dict)\n",
    "tokenizer.add_tokens(['<query>', '<response>', '<latent>', '<persona>'])\n",
    "'''\n",
    "special_tokens_dict = {\"sep_token\": \"</sep>\"}\n",
    "tokenizer.add_special_tokens(special_tokens_dict)\n",
    "tokenizer.add_tokens(['<query>', '<response>', '<latent>', '<persona>'])\n",
    "'''"
   ]
  },
  {
   "cell_type": "code",
   "execution_count": null,
   "id": "ab10b70d-bb5a-4753-a33c-4d88f2a5047c",
   "metadata": {
    "tags": []
   },
   "outputs": [],
   "source": [
    "tokenizer.bos_token = '<s>'\n",
    "special_tokens_dict = {\"sep_token\": \"</sep>\"}\n",
    "tokenizer.add_special_tokens(special_tokens_dict)\n",
    "tokenizer.add_tokens(['<query>', '<response>', '<latent>', '<persona>'])"
   ]
  },
  {
   "cell_type": "code",
   "execution_count": 5,
   "id": "c90f8990-4d54-439c-add5-86a322a69b94",
   "metadata": {
    "tags": []
   },
   "outputs": [
    {
     "name": "stdout",
     "output_type": "stream",
     "text": [
      "1 2 32001 32000\n",
      "\n",
      "<s> </s> <pad> </sep>\n",
      "\n",
      "[32002, 32003, 32004, 32005]\n"
     ]
    }
   ],
   "source": [
    "print(tokenizer.bos_token_id, tokenizer.eos_token_id, tokenizer.pad_token_id, tokenizer.sep_token_id)\n",
    "print()\n",
    "print(tokenizer.bos_token, tokenizer.eos_token, tokenizer.pad_token, tokenizer.sep_token)\n",
    "print()\n",
    "print(tokenizer.convert_tokens_to_ids(['<query>', '<response>', '<latent>', '<persona>']))"
   ]
  },
  {
   "cell_type": "code",
   "execution_count": null,
   "id": "160716f5-a72d-4b5e-8229-a42edaa2aea1",
   "metadata": {
    "tags": []
   },
   "outputs": [],
   "source": [
    "print(tokenizer.bos_token_id, tokenizer.eos_token_id, tokenizer.pad_token_id, tokenizer.sep_token_id)\n",
    "print()\n",
    "print(tokenizer.bos_token, tokenizer.eos_token, tokenizer.pad_token, tokenizer.sep_token)\n",
    "print()\n",
    "print(tokenizer.convert_tokens_to_ids(['<query>', '<response>', '<latent>', '<persona>']))"
   ]
  },
  {
   "cell_type": "code",
   "execution_count": null,
   "id": "9ea991aa-6bf1-481a-b949-2de74f7b8315",
   "metadata": {
    "tags": []
   },
   "outputs": [],
   "source": [
    "print(tokenizer.bos_token_id)\n",
    "print(tokenizer.bos_token)\n",
    "print(tokenizer.eos_token_id)\n",
    "print(tokenizer.eos_token)\n",
    "print(tokenizer.sep_token_id)\n",
    "print(tokenizer.sep_token)\n",
    "print(tokenizer.pad_token_id)\n",
    "print(tokenizer.pad_token)"
   ]
  },
  {
   "cell_type": "code",
   "execution_count": null,
   "id": "bbdb6c3f-a78f-47fa-8bac-5e94a941eedd",
   "metadata": {},
   "outputs": [],
   "source": []
  },
  {
   "cell_type": "code",
   "execution_count": null,
   "id": "76237327-dfb1-4581-a0b0-16b799c2f1dd",
   "metadata": {
    "tags": []
   },
   "outputs": [],
   "source": [
    "tokenizer.sep_token='<\\s>'"
   ]
  },
  {
   "cell_type": "code",
   "execution_count": null,
   "id": "fde8c748-f29b-404d-8946-3acac874057d",
   "metadata": {
    "tags": []
   },
   "outputs": [],
   "source": [
    "tokenizer.eos_token = '<\\s>'"
   ]
  },
  {
   "cell_type": "code",
   "execution_count": null,
   "id": "06b11c36-a555-46ae-a0b9-6ad1ac34a774",
   "metadata": {
    "tags": []
   },
   "outputs": [],
   "source": [
    "prompt = '<\\s>'\n",
    "inputs = tokenizer(prompt, return_tensors=\"pt\")\n",
    "print(inputs)"
   ]
  },
  {
   "cell_type": "code",
   "execution_count": null,
   "id": "7bed0c49-198c-44b3-87a7-f614f5802eae",
   "metadata": {
    "tags": []
   },
   "outputs": [],
   "source": [
    "generate_ids = model.generate(inputs.input_ids, max_length=30)\n",
    "print(generate_ids)"
   ]
  },
  {
   "cell_type": "code",
   "execution_count": null,
   "id": "27f8f46e-c7d7-4c94-9735-2208535aaf0c",
   "metadata": {
    "tags": []
   },
   "outputs": [],
   "source": [
    "tokenizer.decode(inputs['input_ids'][0])"
   ]
  },
  {
   "cell_type": "code",
   "execution_count": null,
   "id": "1e0a251c-7f0e-475e-ac87-ceedfda55725",
   "metadata": {
    "tags": []
   },
   "outputs": [],
   "source": [
    "print(tokenizer.decode(['hello']))"
   ]
  },
  {
   "cell_type": "code",
   "execution_count": null,
   "id": "7370622d-7aac-41cf-a943-a601a1080c61",
   "metadata": {
    "tags": []
   },
   "outputs": [],
   "source": [
    "print(len(tokenizer.get_vocab()))"
   ]
  },
  {
   "cell_type": "code",
   "execution_count": null,
   "id": "86786ed5-0d7f-42d0-b22d-ef94df35efa5",
   "metadata": {
    "tags": []
   },
   "outputs": [],
   "source": [
    "a = tokenizer.get_vocab()"
   ]
  },
  {
   "cell_type": "code",
   "execution_count": null,
   "id": "f5bd7c6b-0787-498c-926d-295339a7603b",
   "metadata": {
    "tags": []
   },
   "outputs": [],
   "source": [
    "a = {v : k for k, v in a.items()}"
   ]
  },
  {
   "cell_type": "code",
   "execution_count": null,
   "id": "57b15bd0-bdfa-46bf-8cca-d57ddb3da06d",
   "metadata": {
    "tags": []
   },
   "outputs": [],
   "source": [
    "print(a[4])"
   ]
  },
  {
   "cell_type": "code",
   "execution_count": null,
   "id": "a350a9aa-cff4-4ff6-8777-689d002f90c2",
   "metadata": {
    "tags": []
   },
   "outputs": [],
   "source": [
    "import torch\n",
    "from transformers import GPT2Tokenizer, GPT2DoubleHeadsModel\n",
    "\n",
    "tokenizer = GPT2Tokenizer.from_pretrained('gpt2')\n",
    "model = GPT2DoubleHeadsModel.from_pretrained('gpt2')\n",
    "\n",
    "choices = [ \"Bob likes candy ; what does Bob like ?  Bag <|endoftext|>\",\n",
    "                   \"Bob likes candy ; what does Bob like ?  Burger <|endoftext|>\",\n",
    "                   \"Bob likes candy ; what does Bob like ?  Candy <|endoftext|>\",\n",
    "                  \"Bob likes candy ; what does Bob like ?  Apple <|endoftext|>\"]\n",
    "\n",
    "encoded_choices = [tokenizer.encode(s) for s in choices]\n",
    "\n",
    "eos_token_location = [tokens.index(tokenizer.eos_token_id) for tokens in encoded_choices]\n",
    "input_ids = torch.tensor(encoded_choices).unsqueeze(0) \n",
    "mc_token_ids = torch.tensor([eos_token_location]) \n",
    "print(input_ids.shape)\n",
    "print(mc_token_ids.shape)\n",
    "outputs = model(input_ids, mc_token_ids=mc_token_ids)\n",
    "lm_prediction_scores, mc_prediction_scores = outputs[:2]\n"
   ]
  },
  {
   "cell_type": "code",
   "execution_count": null,
   "id": "33719677-a29c-4fd4-866d-02038c334065",
   "metadata": {
    "tags": []
   },
   "outputs": [],
   "source": [
    "print(lm_prediction_scores.shape)\n",
    "print(mc_prediction_scores.shape)"
   ]
  },
  {
   "cell_type": "code",
   "execution_count": null,
   "id": "92dfcc11-a847-45dd-8eee-e7e8c59e2a67",
   "metadata": {
    "tags": []
   },
   "outputs": [],
   "source": [
    "import wandb, random\n",
    "total_step_num = 1000\n",
    "for step in range(total_step_num):\n",
    "    wandb.log({'random_curve':step/100+random.random()},step=step)\n",
    "    wandb.log({'log_curve': math.log(step+1)},step=step)\n",
    "wandb.finish()"
   ]
  },
  {
   "cell_type": "code",
   "execution_count": null,
   "id": "77f8a4f1-2750-472d-9f5a-f455d1486a9d",
   "metadata": {
    "tags": []
   },
   "outputs": [],
   "source": [
    "wandb.login()"
   ]
  },
  {
   "cell_type": "code",
   "execution_count": null,
   "id": "1e048369-20c7-4126-85f2-fc8f9f9eb082",
   "metadata": {
    "tags": []
   },
   "outputs": [],
   "source": [
    "a = [1,2,3,4,5,6,7,8,9,0]\n",
    "print(a[-3:])"
   ]
  },
  {
   "cell_type": "code",
   "execution_count": null,
   "id": "084745ef-0c3d-4f1b-bca3-34eaeb55f3c3",
   "metadata": {},
   "outputs": [],
   "source": [
    "['model.layers.0.self_attn.o_proj.lora_B', \n",
    " 'model.layers.24.mlp.up_proj.lora_B', \n",
    " 'model.layers.12.mlp.down_proj.lora_B', \n",
    " 'model.layers.8.self_attn.v_proj.lora_A', \n",
    " 'model.layers.12.self_attn.q_proj.lora_B', \n",
    " 'model.layers.21.mlp.up_proj.lora_B', \n",
    " 'model.layers.20.mlp.gate_proj.lora_B', 'model.layers.17.mlp.gate_proj.lora_B', 'model.layers.7.mlp.down_proj.lora_A', 'model.layers.14.mlp.up_proj.lora_A', 'lm_head.lora_A', 'model.layers.28.self_attn.o_proj.lora_A', 'model.layers.19.self_attn.v_proj.lora_A', 'model.layers.8.mlp.up_proj.lora_B', 'model.layers.31.mlp.gate_proj.lora_A', 'model.layers.23.mlp.down_proj.lora_A', 'model.layers.17.self_attn.k_proj.lora_A', 'model.layers.19.self_attn.q_proj.lora_A', 'model.layers.0.mlp.up_proj.lora_B', 'model.layers.15.self_attn.v_proj.lora_B', 'model.layers.5.self_attn.q_proj.lora_B', 'model.layers.20.mlp.up_proj.lora_A', 'model.layers.26.mlp.up_proj.lora_B', 'model.layers.25.self_attn.v_proj.lora_B', 'model.layers.6.mlp.gate_proj.lora_B', 'model.layers.21.self_attn.q_proj.lora_A', 'model.layers.9.self_attn.v_proj.lora_A', 'model.layers.16.mlp.down_proj.lora_A', 'model.layers.17.self_attn.q_proj.lora_B', 'model.layers.0.self_attn.k_proj.lora_A', 'model.layers.4.mlp.down_proj.lora_A', 'model.layers.22.mlp.down_proj.lora_A', 'model.layers.24.mlp.up_proj.lora_A', 'model.layers.3.mlp.down_proj.lora_B', 'model.layers.25.mlp.up_proj.lora_B', 'model.layers.3.self_attn.k_proj.lora_B', 'model.layers.13.mlp.gate_proj.lora_B', 'model.layers.15.mlp.gate_proj.lora_A', 'model.layers.22.self_attn.o_proj.lora_B', 'model.layers.27.self_attn.q_proj.lora_A', 'model.layers.1.self_attn.k_proj.lora_B', 'model.layers.27.mlp.down_proj.lora_A', 'model.layers.30.self_attn.q_proj.lora_A', 'model.layers.20.self_attn.v_proj.lora_A', 'model.layers.13.self_attn.q_proj.lora_A', 'model.layers.30.self_attn.k_proj.lora_A', 'model.layers.9.self_attn.k_proj.lora_B', 'model.layers.17.self_attn.v_proj.lora_A', 'model.layers.17.self_attn.o_proj.lora_B', 'model.layers.24.self_attn.o_proj.lora_A', 'model.layers.31.mlp.gate_proj.lora_B', 'model.layers.1.self_attn.q_proj.lora_A', 'model.layers.24.mlp.down_proj.lora_A', 'model.layers.7.mlp.gate_proj.lora_B', 'model.layers.15.self_attn.k_proj.lora_B', 'model.layers.2.self_attn.k_proj.lora_A', 'model.layers.6.self_attn.k_proj.lora_A', 'model.layers.27.self_attn.o_proj.lora_B', 'model.layers.27.self_attn.v_proj.lora_B', 'model.layers.29.self_attn.k_proj.lora_B', 'model.layers.25.mlp.down_proj.lora_A', 'model.layers.2.mlp.down_proj.lora_A', 'model.layers.14.self_attn.v_proj.lora_B', 'model.layers.29.self_attn.v_proj.lora_A', 'model.layers.26.self_attn.o_proj.lora_A', 'model.layers.25.self_attn.o_proj.lora_B', 'model.layers.14.mlp.down_proj.lora_A', 'model.layers.20.self_attn.k_proj.lora_A', 'model.layers.27.self_attn.q_proj.lora_B', 'model.layers.31.mlp.up_proj.lora_A', 'model.layers.22.mlp.down_proj.lora_B', 'model.layers.7.self_attn.o_proj.lora_A', 'model.layers.8.self_attn.o_proj.lora_B', 'model.layers.2.self_attn.k_proj.lora_B', 'model.layers.15.self_attn.q_proj.lora_B', 'model.layers.23.self_attn.q_proj.lora_A', 'model.layers.3.mlp.up_proj.lora_B', 'model.layers.7.self_attn.k_proj.lora_B', 'model.layers.5.self_attn.v_proj.lora_B', 'model.layers.20.self_attn.q_proj.lora_B', 'model.layers.7.self_attn.v_proj.lora_B', 'model.layers.11.self_attn.o_proj.lora_B', 'model.layers.31.mlp.up_proj.lora_B', 'model.layers.15.self_attn.k_proj.lora_A', 'model.layers.22.mlp.gate_proj.lora_B', 'model.layers.16.self_attn.q_proj.lora_A', 'model.layers.4.mlp.gate_proj.lora_B', 'model.layers.11.self_attn.v_proj.lora_A', 'model.layers.19.mlp.gate_proj.lora_A', 'model.layers.3.self_attn.k_proj.lora_A', 'model.layers.0.mlp.gate_proj.lora_B', 'model.layers.0.mlp.down_proj.lora_B', 'model.layers.17.self_attn.k_proj.lora_B', 'model.layers.29.self_attn.k_proj.lora_A', 'model.layers.6.self_attn.k_proj.lora_B', 'model.layers.26.mlp.up_proj.lora_A', 'model.layers.12.self_attn.k_proj.lora_B', 'model.layers.7.self_attn.q_proj.lora_A', 'model.layers.4.mlp.down_proj.lora_B', 'model.layers.18.self_attn.o_proj.lora_B', 'model.layers.24.self_attn.o_proj.lora_B', 'model.layers.10.self_attn.o_proj.lora_A', 'model.layers.22.self_attn.q_proj.lora_B', 'model.layers.27.self_attn.v_proj.lora_A', 'model.layers.5.self_attn.v_proj.lora_A', 'model.layers.24.mlp.gate_proj.lora_B', 'model.layers.15.mlp.up_proj.lora_B', 'model.layers.26.self_attn.v_proj.lora_B', 'model.layers.23.mlp.up_proj.lora_B', 'model.layers.30.mlp.up_proj.lora_A', 'model.layers.4.self_attn.q_proj.lora_B', 'model.layers.8.mlp.gate_proj.lora_A', 'model.layers.21.mlp.gate_proj.lora_B', 'model.layers.22.self_attn.v_proj.lora_B', 'model.layers.23.self_attn.q_proj.lora_B', 'model.layers.11.mlp.gate_proj.lora_B', 'model.layers.25.mlp.gate_proj.lora_A', 'model.layers.6.self_attn.q_proj.lora_A', 'model.layers.6.mlp.up_proj.lora_A', 'model.layers.6.mlp.down_proj.lora_B', 'model.layers.8.self_attn.k_proj.lora_B', 'model.layers.21.self_attn.o_proj.lora_A', 'model.layers.23.self_attn.o_proj.lora_A', 'model.layers.9.mlp.down_proj.lora_A', 'model.layers.7.mlp.gate_proj.lora_A', 'model.layers.26.self_attn.k_proj.lora_A', 'model.layers.7.self_attn.q_proj.lora_B', 'model.layers.0.mlp.up_proj.lora_A', 'model.layers.28.self_attn.v_proj.lora_B', 'model.layers.18.mlp.down_proj.lora_A', 'model.layers.11.mlp.up_proj.lora_A', 'model.layers.12.self_attn.o_proj.lora_A', 'model.layers.2.mlp.up_proj.lora_B', 'model.layers.1.mlp.up_proj.lora_B', 'model.layers.14.self_attn.q_proj.lora_A', 'model.layers.30.mlp.down_proj.lora_A', 'model.layers.13.mlp.gate_proj.lora_A', 'model.layers.5.mlp.down_proj.lora_B', 'model.layers.26.mlp.down_proj.lora_B', 'model.layers.23.self_attn.v_proj.lora_B', 'model.layers.22.mlp.up_proj.lora_B', 'model.layers.24.self_attn.k_proj.lora_A', 'model.layers.16.self_attn.q_proj.lora_B', 'model.layers.2.self_attn.v_proj.lora_B', 'model.layers.28.mlp.up_proj.lora_A', 'model.layers.3.self_attn.q_proj.lora_B', 'model.layers.25.self_attn.k_proj.lora_B', 'model.layers.14.mlp.up_proj.lora_B', 'model.layers.25.mlp.up_proj.lora_A', 'model.layers.8.mlp.down_proj.lora_B', 'model.layers.16.self_attn.k_proj.lora_B', 'model.layers.23.self_attn.k_proj.lora_B', 'model.layers.31.self_attn.o_proj.lora_B', 'model.layers.15.mlp.gate_proj.lora_B', 'model.layers.1.mlp.gate_proj.lora_B', 'model.layers.23.self_attn.v_proj.lora_A', 'model.layers.12.mlp.gate_proj.lora_A', 'model.layers.28.mlp.gate_proj.lora_A', 'model.layers.9.mlp.down_proj.lora_B', 'model.layers.19.self_attn.q_proj.lora_B', 'model.layers.29.self_attn.q_proj.lora_A', 'model.layers.25.mlp.gate_proj.lora_B', 'model.layers.20.mlp.up_proj.lora_B', 'model.layers.3.self_attn.o_proj.lora_A', 'model.layers.29.mlp.gate_proj.lora_B', 'model.layers.26.self_attn.o_proj.lora_B', 'model.layers.3.self_attn.o_proj.lora_B', 'model.layers.6.mlp.down_proj.lora_A', 'model.layers.7.mlp.down_proj.lora_B', 'model.layers.28.mlp.down_proj.lora_A', 'model.layers.11.self_attn.k_proj.lora_A', 'model.layers.15.mlp.down_proj.lora_B', 'model.layers.23.mlp.gate_proj.lora_B', 'model.layers.2.self_attn.q_proj.lora_B', 'model.layers.4.mlp.up_proj.lora_A', 'model.layers.21.self_attn.k_proj.lora_A', 'model.layers.16.self_attn.v_proj.lora_B', 'model.layers.31.self_attn.q_proj.lora_B', 'model.layers.16.mlp.down_proj.lora_B', 'model.layers.13.mlp.up_proj.lora_B', 'model.layers.24.self_attn.v_proj.lora_A', 'model.layers.1.mlp.gate_proj.lora_A', 'model.layers.15.self_attn.v_proj.lora_A', 'model.layers.13.mlp.up_proj.lora_A', 'model.layers.16.mlp.up_proj.lora_B', 'model.layers.20.mlp.down_proj.lora_A', 'model.layers.27.mlp.down_proj.lora_B', 'model.layers.11.self_attn.v_proj.lora_B', 'model.layers.16.mlp.gate_proj.lora_A', 'model.layers.25.self_attn.q_proj.lora_B', 'model.layers.15.self_attn.o_proj.lora_B', 'model.layers.12.mlp.up_proj.lora_B', 'model.layers.21.self_attn.k_proj.lora_B', 'model.layers.8.mlp.up_proj.lora_A', 'model.layers.5.mlp.gate_proj.lora_A', 'model.layers.17.self_attn.o_proj.lora_A', 'model.layers.31.mlp.down_proj.lora_A', 'model.layers.25.self_attn.v_proj.lora_A', 'model.layers.15.mlp.down_proj.lora_A', 'model.layers.21.self_attn.v_proj.lora_A', 'model.layers.27.mlp.up_proj.lora_A', 'model.layers.14.self_attn.o_proj.lora_B', 'model.layers.10.self_attn.q_proj.lora_B', 'model.layers.14.self_attn.q_proj.lora_B', 'model.layers.13.self_attn.o_proj.lora_A', 'model.layers.7.self_attn.o_proj.lora_B', 'model.layers.11.mlp.up_proj.lora_B', 'model.layers.9.mlp.gate_proj.lora_B', 'model.layers.27.self_attn.k_proj.lora_B', 'model.layers.29.mlp.down_proj.lora_B', 'model.layers.13.self_attn.k_proj.lora_A', 'model.layers.30.mlp.down_proj.lora_B', 'model.layers.11.mlp.gate_proj.lora_A', 'model.layers.1.self_attn.o_proj.lora_A', 'model.layers.17.self_attn.q_proj.lora_A', 'model.layers.10.self_attn.v_proj.lora_A', 'model.layers.4.self_attn.q_proj.lora_A', 'model.layers.13.self_attn.q_proj.lora_B', 'model.layers.23.self_attn.o_proj.lora_B', 'model.layers.5.self_attn.o_proj.lora_B', 'model.layers.23.mlp.gate_proj.lora_A', 'model.layers.18.self_attn.k_proj.lora_A', 'model.layers.16.self_attn.k_proj.lora_A', 'model.layers.24.mlp.gate_proj.lora_A', 'model.layers.1.self_attn.o_proj.lora_B', 'model.layers.4.self_attn.v_proj.lora_B', 'model.layers.23.mlp.up_proj.lora_A', 'model.layers.30.mlp.gate_proj.lora_B', 'model.layers.1.mlp.down_proj.lora_B', 'model.layers.17.mlp.gate_proj.lora_A', 'model.layers.20.self_attn.q_proj.lora_A', 'model.layers.9.mlp.gate_proj.lora_A', 'model.layers.13.mlp.down_proj.lora_A', 'model.layers.2.self_attn.o_proj.lora_B', 'model.layers.21.self_attn.o_proj.lora_B', 'model.layers.4.self_attn.k_proj.lora_B', 'model.layers.25.mlp.down_proj.lora_B', 'model.layers.16.self_attn.o_proj.lora_A', 'model.layers.30.self_attn.q_proj.lora_B', 'model.layers.7.self_attn.v_proj.lora_A', 'model.layers.9.self_attn.q_proj.lora_B', 'model.layers.18.self_attn.v_proj.lora_B', 'model.layers.16.self_attn.v_proj.lora_A', 'model.layers.23.mlp.down_proj.lora_B', 'model.layers.11.self_attn.q_proj.lora_A', 'model.layers.1.mlp.up_proj.lora_A', 'model.layers.19.self_attn.o_proj.lora_B', 'model.layers.29.mlp.gate_proj.lora_A', 'model.layers.31.self_attn.k_proj.lora_B', 'model.layers.28.mlp.up_proj.lora_B', 'model.layers.25.self_attn.o_proj.lora_A', 'model.layers.7.mlp.up_proj.lora_B', 'model.layers.12.self_attn.v_proj.lora_B', 'model.layers.29.self_attn.q_proj.lora_B', 'model.layers.9.self_attn.v_proj.lora_B', 'model.layers.19.mlp.up_proj.lora_B', 'model.layers.10.mlp.up_proj.lora_A', 'model.layers.6.self_attn.v_proj.lora_A', 'model.layers.14.self_attn.o_proj.lora_A', 'model.layers.23.self_attn.k_proj.lora_A', 'model.layers.14.self_attn.v_proj.lora_A', 'model.layers.8.mlp.down_proj.lora_A', 'model.layers.2.mlp.gate_proj.lora_A', 'model.layers.13.mlp.down_proj.lora_B', 'model.layers.22.self_attn.q_proj.lora_A', 'model.layers.8.self_attn.q_proj.lora_A', 'model.layers.13.self_attn.o_proj.lora_B', 'model.layers.30.self_attn.o_proj.lora_A', 'model.layers.28.self_attn.q_proj.lora_A', 'model.layers.12.mlp.down_proj.lora_A', 'model.layers.9.self_attn.o_proj.lora_A', 'model.layers.31.self_attn.v_proj.lora_B', 'model.layers.31.self_attn.o_proj.lora_A', 'model.layers.1.self_attn.v_proj.lora_B', 'model.layers.20.mlp.gate_proj.lora_A', 'model.layers.6.self_attn.v_proj.lora_B', 'model.layers.17.mlp.down_proj.lora_A', 'model.layers.10.mlp.gate_proj.lora_A', 'model.layers.11.mlp.down_proj.lora_A', 'model.layers.3.self_attn.v_proj.lora_B', 'model.layers.11.self_attn.o_proj.lora_A', 'model.layers.20.mlp.down_proj.lora_B', 'model.layers.18.mlp.gate_proj.lora_B', 'model.layers.15.mlp.up_proj.lora_A', 'model.layers.31.self_attn.k_proj.lora_A', 'model.layers.10.self_attn.k_proj.lora_B', 'model.layers.30.mlp.gate_proj.lora_A', 'model.layers.25.self_attn.q_proj.lora_A', 'model.layers.3.self_attn.v_proj.lora_A', 'model.layers.18.mlp.up_proj.lora_B', 'model.layers.7.mlp.up_proj.lora_A', 'model.layers.19.self_attn.k_proj.lora_B', 'model.layers.20.self_attn.k_proj.lora_B', 'model.layers.8.mlp.gate_proj.lora_B', 'model.layers.19.mlp.down_proj.lora_B', 'model.layers.31.self_attn.v_proj.lora_A', 'model.layers.6.self_attn.o_proj.lora_A', 'model.layers.0.mlp.down_proj.lora_A', 'model.layers.19.mlp.up_proj.lora_A', 'model.layers.22.self_attn.v_proj.lora_A', 'model.layers.26.self_attn.q_proj.lora_B', 'model.layers.20.self_attn.o_proj.lora_B', 'model.layers.24.mlp.down_proj.lora_B', 'model.layers.25.self_attn.k_proj.lora_A', 'model.layers.26.self_attn.q_proj.lora_A', 'model.layers.21.mlp.down_proj.lora_A', 'model.layers.4.self_attn.o_proj.lora_B', 'model.layers.28.self_attn.k_proj.lora_B', 'model.layers.26.mlp.gate_proj.lora_A', 'model.layers.11.mlp.down_proj.lora_B', 'model.layers.10.self_attn.v_proj.lora_B', 'model.layers.3.self_attn.q_proj.lora_A', 'model.layers.2.self_attn.o_proj.lora_A', 'model.layers.10.self_attn.o_proj.lora_B', 'model.layers.26.mlp.down_proj.lora_A', 'model.layers.0.self_attn.v_proj.lora_B', 'model.layers.5.self_attn.k_proj.lora_B', 'model.layers.3.mlp.down_proj.lora_A', 'model.layers.22.self_attn.k_proj.lora_A', 'model.layers.29.mlp.down_proj.lora_A', 'model.layers.0.self_attn.q_proj.lora_A', 'model.layers.0.mlp.gate_proj.lora_A', 'model.layers.17.mlp.down_proj.lora_B', 'model.layers.2.self_attn.q_proj.lora_A', 'model.layers.9.mlp.up_proj.lora_B', 'model.layers.17.mlp.up_proj.lora_A', 'model.layers.2.mlp.up_proj.lora_A', 'model.layers.19.self_attn.v_proj.lora_B', 'model.layers.31.self_attn.q_proj.lora_A', 'model.layers.2.mlp.down_proj.lora_B', 'model.layers.15.self_attn.o_proj.lora_A', 'model.layers.1.mlp.down_proj.lora_A', 'model.layers.2.self_attn.v_proj.lora_A', 'model.layers.12.self_attn.o_proj.lora_B', 'model.layers.29.self_attn.o_proj.lora_A', 'model.layers.12.mlp.up_proj.lora_A', 'model.layers.19.mlp.gate_proj.lora_B', 'model.layers.8.self_attn.k_proj.lora_A', 'model.layers.27.mlp.gate_proj.lora_A', 'model.layers.29.mlp.up_proj.lora_B', 'model.layers.0.self_attn.q_proj.lora_B', 'model.layers.11.self_attn.q_proj.lora_B', 'model.layers.12.self_attn.k_proj.lora_A', 'model.layers.12.self_attn.v_proj.lora_A', 'model.layers.6.self_attn.q_proj.lora_B', 'model.layers.21.self_attn.v_proj.lora_B', 'model.layers.1.self_attn.k_proj.lora_A', 'model.layers.15.self_attn.q_proj.lora_A', 'model.layers.3.mlp.gate_proj.lora_A', 'model.layers.0.self_attn.o_proj.lora_A', 'model.layers.12.self_attn.q_proj.lora_A', 'model.layers.18.mlp.down_proj.lora_B', 'model.layers.16.mlp.up_proj.lora_A', 'model.layers.16.self_attn.o_proj.lora_B', 'model.layers.8.self_attn.o_proj.lora_A', 'model.layers.19.self_attn.o_proj.lora_A', 'model.layers.26.self_attn.k_proj.lora_B', 'model.layers.14.mlp.down_proj.lora_B', 'model.layers.31.mlp.down_proj.lora_B', 'model.layers.4.self_attn.o_proj.lora_A', 'model.layers.8.self_attn.q_proj.lora_B', 'model.layers.4.mlp.gate_proj.lora_A', 'model.layers.5.mlp.down_proj.lora_A', 'model.layers.9.self_attn.k_proj.lora_A', 'model.layers.5.mlp.up_proj.lora_B', 'model.layers.30.self_attn.o_proj.lora_B', 'model.layers.6.mlp.up_proj.lora_B', 'model.layers.24.self_attn.q_proj.lora_B', 'model.layers.28.mlp.gate_proj.lora_B', 'model.layers.8.self_attn.v_proj.lora_B', 'model.layers.22.mlp.up_proj.lora_A', 'model.layers.22.self_attn.o_proj.lora_A', 'model.layers.5.self_attn.k_proj.lora_A', 'model.layers.5.mlp.up_proj.lora_A', 'model.layers.24.self_attn.q_proj.lora_A', 'model.layers.28.mlp.down_proj.lora_B', 'model.layers.3.mlp.gate_proj.lora_B', 'model.layers.3.mlp.up_proj.lora_A', 'model.layers.2.mlp.gate_proj.lora_B', 'model.layers.18.self_attn.o_proj.lora_A', 'model.layers.28.self_attn.o_proj.lora_B', 'model.layers.18.mlp.up_proj.lora_A', 'model.layers.16.mlp.gate_proj.lora_B', 'model.layers.4.mlp.up_proj.lora_B', 'model.layers.18.self_attn.k_proj.lora_B', 'model.layers.28.self_attn.q_proj.lora_B', 'model.layers.5.self_attn.q_proj.lora_A', 'model.layers.10.mlp.down_proj.lora_B', 'model.layers.21.mlp.down_proj.lora_B', 'model.layers.24.self_attn.k_proj.lora_B', 'model.layers.27.self_attn.k_proj.lora_A', 'model.layers.13.self_attn.k_proj.lora_B', 'model.layers.10.mlp.down_proj.lora_A', 'model.layers.21.mlp.gate_proj.lora_A', 'model.layers.10.mlp.up_proj.lora_B', 'model.layers.14.self_attn.k_proj.lora_B', 'model.layers.27.mlp.gate_proj.lora_B', 'model.layers.6.self_attn.o_proj.lora_B', 'model.layers.1.self_attn.q_proj.lora_B', 'model.layers.29.self_attn.o_proj.lora_B', 'model.layers.29.mlp.up_proj.lora_A', 'model.layers.30.self_attn.k_proj.lora_B', 'model.layers.5.mlp.gate_proj.lora_B', 'lm_head.lora_B', 'model.layers.0.self_attn.k_proj.lora_B', 'model.layers.24.self_attn.v_proj.lora_B', 'model.layers.13.self_attn.v_proj.lora_B', 'model.layers.18.self_attn.q_proj.lora_B', 'model.layers.12.mlp.gate_proj.lora_B', 'model.layers.6.mlp.gate_proj.lora_A', 'model.layers.9.self_attn.q_proj.lora_A', 'model.layers.5.self_attn.o_proj.lora_A', 'model.layers.1.self_attn.v_proj.lora_A', 'model.layers.27.mlp.up_proj.lora_B', 'model.layers.11.self_attn.k_proj.lora_B', 'model.layers.28.self_attn.v_proj.lora_A', 'model.layers.30.self_attn.v_proj.lora_A', 'model.layers.4.self_attn.k_proj.lora_A', 'model.layers.0.self_attn.v_proj.lora_A', 'model.layers.18.self_attn.v_proj.lora_A', 'model.layers.18.self_attn.q_proj.lora_A', 'model.layers.30.self_attn.v_proj.lora_B', 'model.layers.30.mlp.up_proj.lora_B', 'model.layers.9.self_attn.o_proj.lora_B', 'model.layers.20.self_attn.v_proj.lora_B', 'model.layers.7.self_attn.k_proj.lora_A', 'model.layers.19.mlp.down_proj.lora_A', 'model.layers.18.mlp.gate_proj.lora_A', 'model.layers.26.mlp.gate_proj.lora_B', 'model.layers.17.self_attn.v_proj.lora_B', 'model.layers.4.self_attn.v_proj.lora_A', 'model.layers.28.self_attn.k_proj.lora_A', 'model.layers.14.mlp.gate_proj.lora_B', 'model.layers.21.mlp.up_proj.lora_A', 'model.layers.14.self_attn.k_proj.lora_A', 'model.layers.29.self_attn.v_proj.lora_B', 'model.layers.10.mlp.gate_proj.lora_B', 'model.layers.20.self_attn.o_proj.lora_A', 'model.layers.10.self_attn.q_proj.lora_A', 'model.layers.17.mlp.up_proj.lora_B', 'model.layers.26.self_attn.v_proj.lora_A', 'model.layers.13.self_attn.v_proj.lora_A', 'model.layers.27.self_attn.o_proj.lora_A', 'model.layers.22.self_attn.k_proj.lora_B', 'model.layers.21.self_attn.q_proj.lora_B', 'model.layers.9.mlp.up_proj.lora_A', 'model.layers.14.mlp.gate_proj.lora_A', 'model.layers.22.mlp.gate_proj.lora_A', 'model.layers.19.self_attn.k_proj.lora_A', 'model.layers.10.self_attn.k_proj.lora_A']"
   ]
  },
  {
   "cell_type": "code",
   "execution_count": null,
   "id": "1cb6354a-4dd8-433d-a674-aff21cbab151",
   "metadata": {},
   "outputs": [],
   "source": [
    " yes , i love fresh veggies . what do you do for a living ?\n",
    "--------------------------------------------------\n",
    " i don't have any pets , but i do travel a lot . i go to europe twice a year .\n",
    "--------------------------------------------------\n",
    " i travel to europe twice a year . do you have any family ?\n",
    "--------------------------------------------------\n",
    " my weekends are great , i go to europe twice a year .\n",
    "--------------------------------------------------\n",
    " i try to go at least once a year . do you have family ?\n",
    "--------------------------------------------------\n",
    " i've been to australia twice , it is beautiful . do you have family there ?\n",
    "--------------------------------------------------\n",
    " i do , i love to walk with my family . i am a descendant of christopher columbus .\n",
    "--------------------------------------------------\n",
    "274s elapsed: {'exs': 2194, '%done': '28.12%', 'time_left': '702s', 'f1': 0.2204, 'bleu': 0.01586}\n",
    " i am doing well . how are you ?\n",
    "--------------------------------------------------"
   ]
  },
  {
   "cell_type": "code",
   "execution_count": null,
   "id": "58047499-fdc2-403f-867a-cd011a359bf4",
   "metadata": {},
   "outputs": [],
   "source": [
    "--------------------------------------------------\n",
    "4738s elapsed: {'exs': 397, '%done': '5.09%', 'time_left': '88367s', 'f1': 0.03384, 'bleu': 0.0006517}\n",
    "<latent><persona> two dogs live with me. i've short hair. i like doing the treadmill and rowing machine. i go to the gym regularly.<query> hello , my name is leon . i am a audio engineer . how are you ?<response> hello , leon . my dogs and i are doing well .<query> that is good to hear ! i've been better , my girlfriend just left me .<response> oh no . i go to the gym a lot . the treadmill keeps my mind off things .<query> i tend to stick indoors but maybe the gym will help , thanks .<response> you are most welcome . the rowing machine is nice too .<query> that's a full body work out right there . do you live in california ? The 2018-19 school year is off to a great start! We are excited to welcome our new students and families to the school and to welcome back our returning students and families.\n",
    "We are looking forward to a great year of learning and growing together.\n",
    "Please take a moment to review the information below and the links to the left.\n",
    "If you have any questions, please contact the school office at 780-467-2200.\n",
    "The school office is open from 8:00 am to 4:00 pm.\n",
    "The school office is closed for lunch from 12:00 pm to 12:30 pm.\n",
    "The school office is closed for lunch from 12:00 pm to 12:30 pm.\n",
    "The school office is closed for lunch from 12:00 pm to 12:30 pm.\n",
    "The school office is closed for lunch from 12:00 pm to 12:30 pm.\n",
    "The school office is closed for lunch from 12:00 pm to 12:30 pm.\n",
    "The school office is closed for lunch from 12:00 pm to 12:30 pm.\n",
    "The school office is closed for lunch from 12:00 pm to 12:30 pm.\n",
    "The school office is closed for lunch from 12:00 pm to 12:30 pm.\n",
    "The school office is closed for lunch\n",
    "--------------------------------------------------\n",
    "4749s elapsed: {'exs': 398, '%done': '5.10%', 'time_left': '88351s', 'f1': 0.03387, 'bleu': 0.0006797}\n",
    "<latent><persona> two dogs live with me. i've short hair. i like doing the treadmill and rowing machine. i go to the gym regularly.<query> hello , my name is leon . i am a audio engineer . how are you ?<response> hello , leon . my dogs and i are doing well .<query> that is good to hear ! i've been better , my girlfriend just left me .<response> oh no . i go to the gym a lot . the treadmill keeps my mind off things .<query> i tend to stick indoors but maybe the gym will help , thanks .<response> you are most welcome . the rowing machine is nice too .<query> that's a full body work out right there . do you live in california ?<response> sadly , no . my dogs and i are in ohio .<query> i think i need to move . my studio is tanking after the decline of the market . The 2018-19 school year is off to a great start! We are excited to welcome our new students and families to the school and to welcome back our returning students and families.\n",
    "We are looking forward to a great year of learning and growing together.\n",
    "Please take a moment to review the information below and the links to the left.\n",
    "The first day of school is Tuesday, September 4th.\n",
    "The first day of school for students is Tuesday, September 4th.\n",
    "The first day of school for students is Wednesday, September 5th.\n",
    "The first day of school for students is Thursday, September 6th.\n",
    "The first day of school for students is Friday, September 7th.\n",
    "The first day of school for students is Monday, September 10th.\n",
    "The first day of school for students is Tuesday, September 111th.\n",
    "The first day of school for students is Wednesday, September 12th.\n",
    "The first day of school for students is Thursday, September 13th.\n",
    "The first day of school for students is Friday, September 14th.\n",
    "The first day of school for students is Monday, September 17th.\n",
    "The first day of school for students is Tuesday, September 18th.\n",
    "The first day of school for students is Wednesday,\n",
    "--------------------------------------------------\n",
    "4760s elapsed: {'exs': 399, '%done': '5.11%', 'time_left': '88312s', 'f1': 0.03386, 'bleu': 0.000678}\n",
    "<latent><persona> two dogs live with me. i've short hair. i like doing the treadmill and rowing machine. i go to the gym regularly.<query> hello , my name is leon . i am a audio engineer . how are you ?<response> hello , leon . my dogs and i are doing well .<query> that is good to hear ! i've been better , my girlfriend just left me .<response> oh no . i go to the gym a lot . the treadmill keeps my mind off things .<query> i tend to stick indoors but maybe the gym will help , thanks .<response> you are most welcome . the rowing machine is nice too .<query> that's a full body work out right there . do you live in california ?<response> sadly , no . my dogs and i are in ohio .<query> i think i need to move . my studio is tanking after the decline of the market .<response> oh no . i'm moving soon as well . due to personal reasons .<query> well i hope your reasons work themselves out . what kind of dogs do you have ? The 2018-19 school year is off to a great start! We are excited to welcome our new students and families to the school and to welcome back our returning students and families.\n",
    "We are looking forward to a great year of learning and growing together.\n",
    "Please take a moment to review the information below and the links to the left.\n",
    "The first day of school is Tuesday, September 4th.\n",
    "The first day of school for students is Tuesday, September 4th.\n",
    "The first day of school for students is Tuesday, September 4th. The first day of school for teachers is Monday, September 3rd.\n",
    "The first day of school for students is Tuesday, September 4th. The first day of school for teachers is Monday, September 3rd.\n",
    "The first day of school for students is Tuesday, September 4th. The first day of school for teachers is Monday, September 3rd. The first day of school for teachers is Monday, September 3rd.\n",
    "The first day of school for students is Tuesday, September 4th. The first day of school for teachers is Monday, September 3rd. The first day of school for teachers is Monday\n",
    "--------------------------------------------------\n",
    "4769s elapsed: {'exs': 400, '%done': '5.13%', 'time_left': '88251s', 'f1': 0.03386, 'bleu': 0.0006763}\n",
    "<latent><persona> two dogs live with me. i've short hair. i like doing the treadmill and rowing machine. i go to the gym regularly.<query> hello , my name is leon . i am a audio engineer . how are you ?<response> hello , leon . my dogs and i are doing well .<query> that is good to hear ! i've been better , my girlfriend just left me .<response> oh no . i go to the gym a lot . the treadmill keeps my mind off things .<query> i tend to stick indoors but maybe the gym will help , thanks .<response> you are most welcome . the rowing machine is nice too .<query> that's a full body work out right there . do you live in california ?<response> sadly , no . my dogs and i are in ohio .<query> i think i need to move . my studio is tanking after the decline of the market .<response> oh no . i'm moving soon as well . due to personal reasons .<query> well i hope your reasons work themselves out . what kind of dogs do you have ?<response> i've a springer spaniel and a lab . do you have pets ?<query> sadly no , they can be very destructive in an audio booth . The 2018-19 school year is off to a great start! We are excited to welcome our new students and families to the school and to welcome back our returning students and families.\n",
    "We are looking forward to a great year of learning and growing together.\n",
    "Please take a moment to review the information below and the links to the left.\n",
    "The first day of school is Tuesday, September 4th.\n",
    "The first day of school for students is Tuesday, September 4th.\n",
    "The first day of school for students is Tuesday, September 4th. The first day of school for students is Tuesday, September 4th.\n",
    "The first day of school for students is Tuesday, September 4th. The first day of school for students is Tuesday, September 4th.\n",
    "The first day of school for students is Tuesday, September 4th. The first day of school for students is Tuesday, September 4th. The first day of school for students is Tuesday, September\n",
    "--------------------------------------------------"
   ]
  },
  {
   "cell_type": "code",
   "execution_count": null,
   "id": "c6591f25-f5fb-4bf3-b05d-5896addaaa57",
   "metadata": {},
   "outputs": [],
   "source": [
    "{'input_ids': tensor([[  366,  1818,   367,  1407,  5172,   869, 29826,   338,   697,   310,\n",
    "           590, 25448,   298, 20838,   583,   869,     2,     0,     0,     0,\n",
    "             0,     0,     0,     0,     0,     0,     0,     0],\n",
    "        [  474,   884,  1083, 27224, 17774,   746,   474,   626,   451,   714,\n",
    "         12580, 29826,   869,     2,     0,     0,     0,     0,     0,     0,\n",
    "             0,     0,     0,     0,     0,     0,     0,     0]]), 'labels': tensor([[  366,  1818,   367,  1407,  5172,   869, 29826,   338,   697,   310,\n",
    "           590, 25448,   298, 20838,   583,   869,     2,     0,     0,     0,\n",
    "             0,     0,     0,     0,     0,     0,     0,     0],\n",
    "        [  474,   884,  1083, 27224, 17774,   746,   474,   626,   451,   714,\n",
    "         12580, 29826,   869,     2,     0,     0,     0,     0,     0,     0,\n",
    "             0,     0,     0,     0,     0,     0,     0,     0]])}"
   ]
  },
  {
   "cell_type": "code",
   "execution_count": null,
   "id": "b915c5f7-086c-4078-9001-a88a42f3319f",
   "metadata": {
    "tags": []
   },
   "outputs": [],
   "source": [
    "a = [1]*10\n",
    "b = [2]*4"
   ]
  },
  {
   "cell_type": "code",
   "execution_count": null,
   "id": "31d2f6a9-5e23-422b-b77e-fe6b0dddd349",
   "metadata": {
    "tags": []
   },
   "outputs": [],
   "source": [
    "a = a[:len(a)-len(b)] + b"
   ]
  },
  {
   "cell_type": "code",
   "execution_count": null,
   "id": "b4576adb-473c-4b69-885f-29f882fb3f97",
   "metadata": {
    "tags": []
   },
   "outputs": [],
   "source": [
    "a = {1:'b'}\n",
    "for a1, a2 in a.items():\n",
    "    print(a1,a2)"
   ]
  },
  {
   "cell_type": "code",
   "execution_count": null,
   "id": "357a128d-305d-454f-bb34-c23f7aa2d86a",
   "metadata": {
    "tags": []
   },
   "outputs": [],
   "source": [
    "print(a.items())"
   ]
  },
  {
   "cell_type": "code",
   "execution_count": null,
   "id": "10d917e4-fdda-4934-b048-2340cf217c56",
   "metadata": {},
   "outputs": [],
   "source": [
    "[1, 1, 1, 1, 1, 1, 2, 2, 2, 2]"
   ]
  }
 ],
 "metadata": {
  "kernelspec": {
   "display_name": "Python 3 (ipykernel)",
   "language": "python",
   "name": "python3"
  },
  "language_info": {
   "codemirror_mode": {
    "name": "ipython",
    "version": 3
   },
   "file_extension": ".py",
   "mimetype": "text/x-python",
   "name": "python",
   "nbconvert_exporter": "python",
   "pygments_lexer": "ipython3",
   "version": "3.10.10"
  }
 },
 "nbformat": 4,
 "nbformat_minor": 5
}
