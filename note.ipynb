{
 "cells": [
  {
   "cell_type": "code",
   "execution_count": null,
   "id": "2579f1f0-451a-4d64-8289-11c9cce31f6a",
   "metadata": {},
   "outputs": [],
   "source": [
    "conda install -c conda-forge cudatoolkit==11.7.0\n",
    "conda install -c conda-forge cudnn\n",
    "conda install -c conda-forge cudatoolkit-dev\n",
    "conda install -c conda-forge pytorch==1.13.1\n",
    "conda install -c conda-forge nvidia-apex"
   ]
  },
  {
   "cell_type": "code",
   "execution_count": null,
   "id": "f5c3102a-2777-4530-aec3-c836def0ea4b",
   "metadata": {},
   "outputs": [],
   "source": [
    "torchrun --standalone --nproc_per_node=1 train_sft.py \\\n",
    "    --pretrain './checkpoint/llama_7B' \\\n",
    "    --model 'llama' \\\n",
    "    --strategy colossalai_zero2 \\\n",
    "    --log_interval 10 \\\n",
    "    --save_path './checkpoint/step1/epoch1' \\\n",
    "    --dataset 'PersonaChat' \\\n",
    "    --batch_size 2 \\\n",
    "    --accumulation_steps 8 \\\n",
    "    --lr 2e-5 \\\n",
    "    --max_epochs 1 \\\n",
    "    --lora_rank 16 \\\n",
    "    --batch_size 2 \\\n",
    "    --max_datasets_size 16"
   ]
  },
  {
   "cell_type": "code",
   "execution_count": null,
   "id": "50bb1cf2-4d00-4d72-ad22-2a2a274a038b",
   "metadata": {},
   "outputs": [],
   "source": [
    "torchrun --standalone --nproc_per_node=1 train_reward_model.py \\\n",
    "    --strategy colossalai_zero2 \\\n",
    "    --model 'opt' \\\n",
    "    --pretrain './checkpoint_opt/step1/epoch1' \\\n",
    "    --dataset 'PersonaChat' \\\n",
    "    --save_path './checkpoint_opt/step2/epoch1/rmstatic.pt' \\\n",
    "    --max_epochs 1 \\\n",
    "    --batch_size 8 \\\n",
    "    --loss_fn 'log_exp' \\\n",
    "    --lora_rank 16 \\\n",
    "    --max_datasets_size 16"
   ]
  },
  {
   "cell_type": "code",
   "execution_count": null,
   "id": "5ac75f81-a084-4bf9-88fe-ef5928b9937f",
   "metadata": {},
   "outputs": [],
   "source": [
    "torchrun --standalone --nproc_per_node=1 train_prompts.py \\\n",
    "    --prompt_dataset 'PersonaChat' \\\n",
    "    --pretrain_dataset 'PersonaChat' \\\n",
    "    --strategy colossalai_zero2 \\\n",
    "    --model 'opt' \\\n",
    "    --pretrain './checkpoint_opt/step1/epoch1' \\\n",
    "    --rm_model 'opt' \\\n",
    "    --rm_pretrain 'facebook/opt-2.7b' \\\n",
    "    --rm_path './checkpoint_opt/step2/epoch1/rmstatic.pt' \\\n",
    "    --save_path './checkpoint_opt/step3/epoch1/acstatic.pt' \\\n",
    "    --num_episodes 10 \\\n",
    "    --max_epochs 1 \\\n",
    "    --train_batch_size 8 \\\n",
    "    --ptx_batch_size 1 \\\n",
    "    --experience_batch_size 8\\\n",
    "    --lora_rank 16 \\\n",
    "    --max_input_len 511 \\\n",
    "    --max_seq_len 512 \\\n",
    "    --tokenizer 'facebook/opt-350m' \\\n",
    "    --max_datasets_size 16"
   ]
  },
  {
   "cell_type": "code",
   "execution_count": null,
   "id": "5bd500be-558b-4043-a6d9-e965afea9a93",
   "metadata": {},
   "outputs": [],
   "source": [
    "torchrun --standalone --nproc_per_node=1 inference.py \\\n",
    "    --model 'opt' \\\n",
    "    --pretrain 'facebook/opt-2.7b' \\\n",
    "    --model_path './checkpoint_opt/step3/epoch1/acstatic.pt' \\\n",
    "    --max_length 128 \\\n",
    "    --tokenizer 'facebook/opt-350m'   "
   ]
  },
  {
   "cell_type": "code",
   "execution_count": null,
   "id": "e6fe24a8-ca11-4fdd-869d-336e0ed15c54",
   "metadata": {
    "tags": []
   },
   "outputs": [],
   "source": [
    "torchrun --standalone --nproc_per_node=1 inference.py \\\n",
    "    --model 'opt' \\\n",
    "    --pretrain './checkpoint_opt/step1/epoch1' \\\n",
    "    --max_length 512 \\\n",
    "    --tokenizer 'facebook/opt-350m'   "
   ]
  },
  {
   "cell_type": "code",
   "execution_count": 10,
   "id": "e10b8bac-05e3-489e-88f0-665ec9e2a5b4",
   "metadata": {
    "tags": []
   },
   "outputs": [
    {
     "ename": "ModuleNotFoundError",
     "evalue": "No module named 'ParlAI'",
     "output_type": "error",
     "traceback": [
      "\u001b[0;31m---------------------------------------------------------------------------\u001b[0m",
      "\u001b[0;31mModuleNotFoundError\u001b[0m                       Traceback (most recent call last)",
      "Cell \u001b[0;32mIn[10], line 1\u001b[0m\n\u001b[0;32m----> 1\u001b[0m \u001b[38;5;28;01mfrom\u001b[39;00m \u001b[38;5;21;01mParlAI\u001b[39;00m\u001b[38;5;21;01m.\u001b[39;00m\u001b[38;5;21;01mprojects\u001b[39;00m\u001b[38;5;21;01m.\u001b[39;00m\u001b[38;5;21;01mconvai2\u001b[39;00m\u001b[38;5;21;01m.\u001b[39;00m\u001b[38;5;21;01meval_hits\u001b[39;00m \u001b[38;5;28;01mimport\u001b[39;00m eval_hits\n",
      "\u001b[0;31mModuleNotFoundError\u001b[0m: No module named 'ParlAI'"
     ]
    }
   ],
   "source": [
    "from transformers import AutoTokenizer\n",
    "from transformers.models.opt.modeling_opt import OPTForCausalLM\n",
    "self.tokenizer = AutoTokenizer.from_pretrained(\"facebook/opt-350m\", add_prefix_space=True)\n",
    "self.model_checkpoint = OPTForCausalLM.from_pretrained('../Chat/checkpoint_opt/step1/epoch1')"
   ]
  },
  {
   "cell_type": "code",
   "execution_count": null,
   "id": "1d14316c-a0bb-4458-a57c-0bac46742d39",
   "metadata": {
    "tags": []
   },
   "outputs": [],
   "source": [
    "pip install ParlAI"
   ]
  },
  {
   "cell_type": "code",
   "execution_count": null,
   "id": "a96238ef-5496-4109-906b-e72dc0d7b6d3",
   "metadata": {},
   "outputs": [],
   "source": []
  }
 ],
 "metadata": {
  "kernelspec": {
   "display_name": "Python 3 (ipykernel)",
   "language": "python",
   "name": "python3"
  },
  "language_info": {
   "codemirror_mode": {
    "name": "ipython",
    "version": 3
   },
   "file_extension": ".py",
   "mimetype": "text/x-python",
   "name": "python",
   "nbconvert_exporter": "python",
   "pygments_lexer": "ipython3",
   "version": "3.10.10"
  }
 },
 "nbformat": 4,
 "nbformat_minor": 5
}
