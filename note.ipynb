{
 "cells": [
  {
   "cell_type": "code",
   "execution_count": null,
   "id": "2579f1f0-451a-4d64-8289-11c9cce31f6a",
   "metadata": {},
   "outputs": [],
   "source": [
    "conda install -c conda-forge cudatoolkit==11.7.0\n",
    "conda install -c conda-forge cudnn\n",
    "conda install -c conda-forge cudatoolkit-dev\n",
    "conda install -c conda-forge pytorch==1.13.1\n",
    "conda install -c conda-forge nvidia-apex\n",
    "git clone https://github.com/hpcaitech/ColossalAI.git\n",
    "cd ColossalAI/applications/Chat\n",
    "CUDA_EXT=1 pip install .\n",
    "git clone https://github.com/Chenrj233/ParlAI.git\n",
    "cd ParlAI\n",
    "python setup.py install"
   ]
  },
  {
   "cell_type": "code",
   "execution_count": null,
   "id": "eca87864-1276-47fd-a44a-5f9da9d97169",
   "metadata": {},
   "outputs": [],
   "source": [
    "torchrun --standalone --nproc_per_node=3 train_sft.py \\\n",
    "    --pretrain './checkpoint/llama_7B' \\\n",
    "    --model 'llama' \\\n",
    "    --strategy colossalai_zero2 \\\n",
    "    --log_interval 128 \\\n",
    "    --save_path './checkpoint_llama/step1/epoch1' \\\n",
    "    --dataset 'PersonaChat' \\\n",
    "    --accumulation_steps 8 \\\n",
    "    --lr 2e-5 \\\n",
    "    --max_epochs 1 \\\n",
    "    --lora_rank 16 \\\n",
    "    --batch_size 4 \\\n",
    "    --max_datasets_size 128"
   ]
  },
  {
   "cell_type": "code",
   "execution_count": null,
   "id": "f5c3102a-2777-4530-aec3-c836def0ea4b",
   "metadata": {},
   "outputs": [],
   "source": [
    "torchrun --standalone --nproc_per_node=3 train_sft.py \\\n",
    "    --pretrain './llama-2-7b-chat-hf/' \\\n",
    "    --model 'llama' \\\n",
    "    --strategy colossalai_zero2_cpu \\\n",
    "    --log_interval 128 \\\n",
    "    --save_path './checkpoint_llama2/step1/epoch1-1e-5' \\\n",
    "    --dataset 'PersonaChat' \\\n",
    "    --accumulation_steps 8 \\\n",
    "    --lr 1e-5 \\\n",
    "    --max_epochs 1 \\\n",
    "    --batch_size 1 \\\n",
    "    --max_datasets_size 128"
   ]
  },
  {
   "cell_type": "code",
   "execution_count": null,
   "id": "b279ae55-19de-486e-a070-f3251e65e2dd",
   "metadata": {},
   "outputs": [],
   "source": [
    "torchrun --standalone --nproc_per_node=3 train_sft.py \\\n",
    "    --pretrain 'facebook/opt-2.7b' \\\n",
    "    --model 'opt' \\\n",
    "    --strategy colossalai_zero2 \\\n",
    "    --log_interval 128 \\\n",
    "    --save_path './checkpoint_opt2.7B/step1/epoch1-3e-5' \\\n",
    "    --dataset 'PersonaChat' \\\n",
    "    --accumulation_steps 8 \\\n",
    "    --lr 3e-5 \\\n",
    "    --max_epochs 1 \\\n",
    "    --batch_size 2 \\\n",
    "    --max_datasets_size 128"
   ]
  },
  {
   "cell_type": "code",
   "execution_count": null,
   "id": "edb0118b-8e61-4fc4-9b79-9facee3ecf83",
   "metadata": {},
   "outputs": [],
   "source": []
  },
  {
   "cell_type": "code",
   "execution_count": null,
   "id": "848e5fb6-78a4-4ae6-89e6-786cbd4c3061",
   "metadata": {},
   "outputs": [],
   "source": [
    "torchrun --standalone --nproc_per_node=3 train_sft.py \\\n",
    "    --pretrain './llama-2-7b-chat-hf/' \\\n",
    "    --model 'llama' \\\n",
    "    --strategy colossalai_zero2_cpu \\\n",
    "    --log_interval 128 \\\n",
    "    --save_path './checkpoint_llama2_twodata/step1/epoch1_dstc_2e5' \\\n",
    "    --dataset 'dstc' \\\n",
    "    --accumulation_steps 8 \\\n",
    "    --lr 2e-5 \\\n",
    "    --max_epochs 1 \\\n",
    "    --batch_size 1 \\\n",
    "    --max_datasets_size 128"
   ]
  },
  {
   "cell_type": "code",
   "execution_count": null,
   "id": "37a748e3-dca5-4568-8c29-7f2b53c291fc",
   "metadata": {},
   "outputs": [],
   "source": [
    "torchrun --standalone --nproc_per_node=3 train_sft.py \\\n",
    "    --pretrain './checkpoint_llama2_twodata/step1/epoch1_dstc_8e6' \\\n",
    "    --model 'llama' \\\n",
    "    --strategy colossalai_zero2_cpu \\\n",
    "    --log_interval 128 \\\n",
    "    --save_path './checkpoint_llama2_twodata/step1/epoch1_persona_8e6_8e6re' \\\n",
    "    --dataset 'PersonaChat' \\\n",
    "    --accumulation_steps 8 \\\n",
    "    --lr 8e-6 \\\n",
    "    --max_epochs 1 \\\n",
    "    --batch_size 1 \\\n",
    "    --max_datasets_size 128 \\\n",
    "    --revised"
   ]
  },
  {
   "cell_type": "code",
   "execution_count": null,
   "id": "3084e8cc-b2df-485d-a7f9-98c71dc7cee5",
   "metadata": {},
   "outputs": [],
   "source": [
    "torchrun --standalone --nproc_per_node=3 train_sft.py \\\n",
    "    --pretrain './checkpoint_llama2_twodata/step1/epoch1_persona_8e6_8e6re' \\\n",
    "    --model 'llama' \\\n",
    "    --strategy colossalai_zero2_cpu \\\n",
    "    --log_interval 128 \\\n",
    "    --save_path './checkpoint_llama2_twodata/step1/epoch1_persona_8e6_8e6re_1e5' \\\n",
    "    --dataset 'PersonaChat' \\\n",
    "    --accumulation_steps 8 \\\n",
    "    --lr 1e-5 \\\n",
    "    --max_epochs 1 \\\n",
    "    --batch_size 1 \\\n",
    "    --max_datasets_size 128 \\\n",
    "    --revised"
   ]
  },
  {
   "cell_type": "code",
   "execution_count": null,
   "id": "8f058336-a827-4ae3-be8e-d24d170c99aa",
   "metadata": {},
   "outputs": [],
   "source": []
  },
  {
   "cell_type": "code",
   "execution_count": null,
   "id": "095bcbe4-f118-4888-9f94-de90feff3e1d",
   "metadata": {},
   "outputs": [],
   "source": [
    "torchrun --standalone --nproc_per_node=3 train_sft.py \\\n",
    "    --pretrain 'facebook/opt-iml-max-1.3b' \\\n",
    "    --model 'opt' \\\n",
    "    --strategy colossalai_zero2 \\\n",
    "    --log_interval 128 \\\n",
    "    --save_path './checkpoint_optmax_twodata/step1/epoch1_dstc_2e6' \\\n",
    "    --dataset 'dstc' \\\n",
    "    --accumulation_steps 8 \\\n",
    "    --lr 2e-6 \\\n",
    "    --max_epochs 1 \\\n",
    "    --batch_size 8 \\\n",
    "    --max_datasets_size 128"
   ]
  },
  {
   "cell_type": "code",
   "execution_count": null,
   "id": "b8e707a3-b5a3-4f1e-b296-dc60d7694f5e",
   "metadata": {},
   "outputs": [],
   "source": [
    "torchrun --standalone --nproc_per_node=1 train_sft.py \\\n",
    "    --pretrain './checkpoint_optmax_twodata/step1/epoch1_dstc_2e5' \\\n",
    "    --model 'opt' \\\n",
    "    --strategy colossalai_zero2 \\\n",
    "    --log_interval 128 \\\n",
    "    --save_path './checkpoint_optmax_twodata/step1/epoch1_persona_2e6_2e5' \\\n",
    "    --dataset 'PersonaChat' \\\n",
    "    --accumulation_steps 8 \\\n",
    "    --lr 2e-5 \\\n",
    "    --max_epochs 1 \\\n",
    "    --batch_size 8 \\\n",
    "    --max_datasets_size 128 \\\n",
    "    --revised true"
   ]
  },
  {
   "cell_type": "code",
   "execution_count": null,
   "id": "90bd27ab-e1e3-4395-8bc1-5027f6f10c0a",
   "metadata": {},
   "outputs": [],
   "source": []
  },
  {
   "cell_type": "code",
   "execution_count": null,
   "id": "1ab47eee-c43e-4a1d-8553-a572239d9123",
   "metadata": {},
   "outputs": [],
   "source": []
  },
  {
   "cell_type": "code",
   "execution_count": null,
   "id": "fd3cbcc5-029c-47d5-b44d-0efd0267165b",
   "metadata": {},
   "outputs": [],
   "source": []
  },
  {
   "cell_type": "code",
   "execution_count": null,
   "id": "910cab99-1863-4d4d-b5c1-3ae7b7b71121",
   "metadata": {},
   "outputs": [],
   "source": [
    "torchrun --standalone --nproc_per_node=3 train_reward_model.py \\\n",
    "    --strategy colossalai_zero2 \\\n",
    "    --model 'opt' \\\n",
    "    --pretrain './checkpoint_opt/step1/epoch3' \\\n",
    "    --dataset 'Dahoas/rm-static' \\\n",
    "    --save_path './checkpoint_opt/step2/epoch3/rmstatic.pt' \\\n",
    "    --max_epochs 3 \\\n",
    "    --batch_size 16 \\\n",
    "    --loss_fn 'log_exp' \\\n",
    "    --max_datasets_size 128"
   ]
  },
  {
   "cell_type": "code",
   "execution_count": null,
   "id": "b5d28647-fdd0-4dca-88e7-b832bc954792",
   "metadata": {},
   "outputs": [],
   "source": [
    "torchrun --standalone --nproc_per_node=3 train_reward_model.py \\\n",
    "    --strategy colossalai_gemini \\\n",
    "    --model 'opt' \\\n",
    "    --pretrain './checkpoint_llama/step1/epoch1_cpu' \\\n",
    "    --dataset 'PersonaChat' \\\n",
    "    --save_path './checkpoint_llama/step2/epoch1_gemini/rmpersona.pt' \\\n",
    "    --max_epochs 1 \\\n",
    "    --batch_size 2 \\\n",
    "    --loss_fn 'log_exp' \\\n",
    "    --max_datasets_size 128"
   ]
  },
  {
   "cell_type": "code",
   "execution_count": null,
   "id": "3e8929f1-20fc-4d59-a84b-d5ef9e7670c4",
   "metadata": {},
   "outputs": [],
   "source": [
    "torchrun --standalone --nproc_per_node=3 train_reward_model.py \\\n",
    "    --strategy colossalai_zero2 \\\n",
    "    --model 'opt' \\\n",
    "    --pretrain './checkpoint_opt1.3Biml/step1/epoch5' \\\n",
    "    --dataset 'PersonaChat' \\\n",
    "    --save_path './checkpoint_opt1.3Biml/step2/epoch5/rmpersona.pt' \\\n",
    "    --max_epochs 5 \\\n",
    "    --batch_size 8 \\\n",
    "    --loss_fn 'log_exp' \\\n",
    "    --max_datasets_size 128"
   ]
  },
  {
   "cell_type": "code",
   "execution_count": null,
   "id": "50bb1cf2-4d00-4d72-ad22-2a2a274a038b",
   "metadata": {},
   "outputs": [],
   "source": []
  },
  {
   "cell_type": "code",
   "execution_count": null,
   "id": "f8a7628c-63a7-4364-b3b1-04ef8022920e",
   "metadata": {},
   "outputs": [],
   "source": []
  },
  {
   "cell_type": "code",
   "execution_count": null,
   "id": "5ac75f81-a084-4bf9-88fe-ef5928b9937f",
   "metadata": {},
   "outputs": [],
   "source": [
    "torchrun --standalone --nproc_per_node=1 train_prompts.py \\\n",
    "    --prompt_dataset 'PersonaChat' \\\n",
    "    --pretrain_dataset 'PersonaChat' \\\n",
    "    --strategy colossalai_zero2 \\\n",
    "    --model 'opt' \\\n",
    "    --pretrain './checkpoint_opt/step1/epoch1' \\\n",
    "    --rm_model 'opt' \\\n",
    "    --rm_pretrain 'facebook/opt-2.7b' \\\n",
    "    --rm_path './checkpoint_opt/step2/epoch1/rmstatic.pt' \\\n",
    "    --save_path './checkpoint_opt/step3/epoch1/acstatic.pt' \\\n",
    "    --num_episodes 10 \\\n",
    "    --max_epochs 1 \\\n",
    "    --train_batch_size 8 \\\n",
    "    --ptx_batch_size 1 \\\n",
    "    --experience_batch_size 8\\\n",
    "    --lora_rank 16 \\\n",
    "    --max_input_len 511 \\\n",
    "    --max_seq_len 512 \\\n",
    "    --tokenizer 'facebook/opt-350m' \\\n",
    "    --max_datasets_size 16"
   ]
  },
  {
   "cell_type": "code",
   "execution_count": null,
   "id": "1540dfbf-e35d-4fae-a013-95060ee2b56b",
   "metadata": {},
   "outputs": [],
   "source": [
    "torchrun --standalone --nproc_per_node=3 train_prompts.py \\\n",
    "    --prompt_dataset 'PersonaChat' \\\n",
    "    --pretrain_dataset 'PersonaCha1t' \\\n",
    "    --strategy colossalai_zero2 \\\n",
    "    --model 'llama' \\\n",
    "    --pretrain './checkpoint_llama/step1/epoch1_cpu' \\\n",
    "    --rm_model 'llama' \\\n",
    "    --rm_pretrain './checkpoint/llama_7B' \\\n",
    "    --rm_path './checkpoint_llama/step2/epoch1_gemini/rmpersona.pt' \\\n",
    "    --save_path './checkpoint_llama/step3/epoch1/rmpersona.pt' \\\n",
    "    --num_episodes 10 \\\n",
    "    --max_epochs 1 \\\n",
    "    --train_batch_size 1 \\\n",
    "    --ptx_batch_size 1 \\\n",
    "    --experience_batch_size 1\\\n",
    "    --lora_rank 16 \\\n",
    "    --max_input_len 511 \\\n",
    "    --max_seq_len 512 \\\n",
    "    --tokenizer './checkpoint_opt/step1/epoch3' \\\n",
    "    --max_datasets_size 128\n"
   ]
  },
  {
   "cell_type": "code",
   "execution_count": null,
   "id": "85a694e7-3edc-44f6-a5ea-4a3f8d857775",
   "metadata": {},
   "outputs": [],
   "source": [
    "torchrun --standalone --nproc_per_node=3 train_prompts.py \\\n",
    "    --prompt_dataset 'PersonaChat' \\\n",
    "    --pretrain_dataset 'PersonaChat' \\\n",
    "    --strategy colossalai_zero2 \\\n",
    "    --model 'opt' \\\n",
    "    --pretrain './checkpoint_opt1.3Biml/step1/epoch5' \\\n",
    "    --rm_model 'opt' \\\n",
    "    --rm_pretrain './checkpoint_opt1.3Biml/step1/epoch5' \\\n",
    "    --rm_path './checkpoint_opt1.3Biml/step2/epoch5/rmpersona.pt' \\\n",
    "    --save_path './checkpoint_opt1.3Biml/step3/epoch51/rmpersona.pt' \\\n",
    "    --num_episodes 10 \\\n",
    "    --max_epochs 1 \\\n",
    "    --train_batch_size 1 \\\n",
    "    --ptx_batch_size 1 \\\n",
    "    --experience_batch_size 8\\\n",
    "    --max_input_len 511 \\\n",
    "    --max_seq_len 512 \\\n",
    "    --tokenizer './checkpoint_opt1.3Biml/step1/epoch5' \\\n",
    "    --max_datasets_size 128"
   ]
  },
  {
   "cell_type": "code",
   "execution_count": null,
   "id": "3da39818-5ae7-4d1c-ae58-e3f5fa0ae2c9",
   "metadata": {},
   "outputs": [],
   "source": []
  },
  {
   "cell_type": "code",
   "execution_count": null,
   "id": "5e8d0526-2dad-4a28-9610-983c607ed8db",
   "metadata": {},
   "outputs": [],
   "source": [
    "python evaluation_PersonaChat.py \\\n",
    "    --model_checkpoint 'persona_original' \\\n",
    "    --eval_type f1 \\\n",
    "    --beam 2 \\\n",
    "    --max_history 10 \\\n",
    "    --revised"
   ]
  },
  {
   "cell_type": "code",
   "execution_count": null,
   "id": "de34d6a0-eedf-41e5-9a39-d7f9a0eee49f",
   "metadata": {},
   "outputs": [],
   "source": [
    "python evaluation_PersonaChat.py \\\n",
    "    --model_checkpoint './checkpoint_llama2/step1/epoch1-1e-5' \\\n",
    "    --eval_type f1 \\\n",
    "    --beam 2 \\\n",
    "    --max_history 10 "
   ]
  },
  {
   "cell_type": "code",
   "execution_count": null,
   "id": "8daa9bb9-df11-44bf-9521-a9820ecf905b",
   "metadata": {},
   "outputs": [],
   "source": [
    "python evaluation_PersonaChat.py \\\n",
    "    --model_checkpoint './checkpoint_llama2_twodata/step1/epoch1_persona_8e6_1e5' \\\n",
    "    --eval_type f1 \\\n",
    "    --beam 2 \\\n",
    "    --max_history 10 "
   ]
  },
  {
   "cell_type": "code",
   "execution_count": null,
   "id": "a73a0ce9-b814-4337-842a-65b2496fc1cc",
   "metadata": {},
   "outputs": [],
   "source": []
  },
  {
   "cell_type": "code",
   "execution_count": null,
   "id": "49bc7385-3984-4588-b960-dc588ec9e79b",
   "metadata": {},
   "outputs": [],
   "source": [
    "python evaluation_PersonaChat.py \\\n",
    "    --model_checkpoint './checkpoint_optmax_twodata/step1/epoch1_persona_2e5_2e5' \\\n",
    "    --eval_type f1 \\\n",
    "    --beam 2 \\\n",
    "    --max_history 10 \\\n",
    "    --revised"
   ]
  },
  {
   "cell_type": "code",
   "execution_count": null,
   "id": "dee86618-2936-4f27-9372-6d6c44d2dd8e",
   "metadata": {},
   "outputs": [],
   "source": []
  },
  {
   "cell_type": "code",
   "execution_count": null,
   "id": "6043ea0f-9860-49c4-b258-20b689f7c3fb",
   "metadata": {},
   "outputs": [],
   "source": []
  },
  {
   "cell_type": "code",
   "execution_count": null,
   "id": "a155de56-9dba-443d-9bce-74c26e2159fc",
   "metadata": {},
   "outputs": [],
   "source": [
    "python evaluation_PersonaChat.py \\\n",
    "    --model_checkpoint 'persona_original' \\\n",
    "    --eval_type hits@1 "
   ]
  },
  {
   "cell_type": "code",
   "execution_count": null,
   "id": "e7716f14-8097-48bc-a132-6fdee7146ce8",
   "metadata": {},
   "outputs": [],
   "source": [
    "python evaluation_PersonaChat.py \\\n",
    "    --model_checkpoint './checkpoint_llama2_twodata/step1/epoch1_persona_2e6_2e5' \\\n",
    "    --eval_type hits@1 "
   ]
  },
  {
   "cell_type": "code",
   "execution_count": null,
   "id": "536f7588-8b81-4f44-80d5-f728853add9b",
   "metadata": {},
   "outputs": [],
   "source": []
  },
  {
   "cell_type": "code",
   "execution_count": null,
   "id": "1ee9d892-24d0-487b-b249-13445c033ced",
   "metadata": {},
   "outputs": [],
   "source": [
    "python convert_llama_weights_to_hf.py \\\n",
    "    --input_dir './llama' \\\n",
    "    --model_size '7Bf' \\\n",
    "    --output_dir './llama-2-7b-chat-hf/'"
   ]
  },
  {
   "cell_type": "code",
   "execution_count": null,
   "id": "1bd402a1-cbf2-4b55-8e19-08421809fca7",
   "metadata": {},
   "outputs": [],
   "source": []
  },
  {
   "cell_type": "code",
   "execution_count": null,
   "id": "5bd500be-558b-4043-a6d9-e965afea9a93",
   "metadata": {},
   "outputs": [],
   "source": [
    "torchrun --standalone --nproc_per_node=1 inference.py \\\n",
    "    --model 'opt' \\\n",
    "    --pretrain 'facebook/opt-2.7b' \\\n",
    "    --model_path './checkpoint_opt/step3/epoch1/acstatic.pt' \\\n",
    "    --max_length 128 \\\n",
    "    --tokenizer 'facebook/opt-350m'   "
   ]
  },
  {
   "cell_type": "code",
   "execution_count": null,
   "id": "e6fe24a8-ca11-4fdd-869d-336e0ed15c54",
   "metadata": {
    "tags": []
   },
   "outputs": [],
   "source": [
    "torchrun --standalone --nproc_per_node=1 inference.py \\\n",
    "    --model 'opt' \\\n",
    "    --pretrain './checkpoint_opt/step1/epoch1' \\\n",
    "    --max_length 512 \\\n",
    "    --tokenizer 'facebook/opt-350m'   "
   ]
  },
  {
   "cell_type": "code",
   "execution_count": null,
   "id": "88b1d09b-fd7c-44db-8ac4-e74240d724b4",
   "metadata": {},
   "outputs": [],
   "source": [
    "tensor([[-14.5536],\n",
    "        [-12.7583],\n",
    "        [-16.2968],\n",
    "        [ -9.1099],\n",
    "        [-15.5924],\n",
    "        [-15.5844],\n",
    "        [ -5.8899],\n",
    "        [-16.1088],\n",
    "        [-13.6400],\n",
    "        [-11.5683],\n",
    "        [ -3.5833],\n",
    "        [-12.0773],\n",
    "        [ -3.8775],\n",
    "        [-15.0167],\n",
    "        [-12.2481],\n",
    "        [-16.2931],\n",
    "        [-11.0122],\n",
    "        [-16.8578],\n",
    "        [-16.3747],\n",
    "        [ -4.3238]], device='cuda:0')\n",
    "20\n",
    "1"
   ]
  },
  {
   "cell_type": "code",
   "execution_count": null,
   "id": "e10b8bac-05e3-489e-88f0-665ec9e2a5b4",
   "metadata": {
    "tags": []
   },
   "outputs": [],
   "source": [
    "tensor([[-5.1600,  5.5538, 11.0944,  ...,  4.2302,  0.3960, 25.2892],\n",
    "        [-6.1038, -0.8699,  4.2030,  ...,  1.7245, -1.8477,  2.9103],\n",
    "        [-7.1050, -3.8702,  2.4604,  ..., -3.3658, -0.8522,  0.0561],\n",
    "        ...,\n",
    "        [ 0.3380,  2.2908, 19.6358,  ...,  3.5377, -3.0058,  5.2599],\n",
    "        [-0.3818,  0.8998, 20.4717,  ...,  0.7886, -1.9366,  4.5995],\n",
    "        [-0.9332,  0.0713,  3.8940,  ..., 28.3136, -3.9910,  2.1242]],\n",
    "       device='cuda:0')\n",
    "49\n",
    "32006"
   ]
  },
  {
   "cell_type": "code",
   "execution_count": null,
   "id": "1d14316c-a0bb-4458-a57c-0bac46742d39",
   "metadata": {
    "tags": []
   },
   "outputs": [],
   "source": [
    "epoch5\n",
    "1. 0.03676635443136688\n",
    "2. 0.02773737145198687"
   ]
  },
  {
   "cell_type": "code",
   "execution_count": null,
   "id": "a96238ef-5496-4109-906b-e72dc0d7b6d3",
   "metadata": {},
   "outputs": [],
   "source": [
    "docker run -it --gpus all -p 8899:8888 -e JUPYTER_ENABLE_LAB=yes -v /mnt/userhome/sun/jupyter:/home/jovyan/work persona_sun_v2 &"
   ]
  }
 ],
 "metadata": {
  "kernelspec": {
   "display_name": "Python 3 (ipykernel)",
   "language": "python",
   "name": "python3"
  },
  "language_info": {
   "codemirror_mode": {
    "name": "ipython",
    "version": 3
   },
   "file_extension": ".py",
   "mimetype": "text/x-python",
   "name": "python",
   "nbconvert_exporter": "python",
   "pygments_lexer": "ipython3",
   "version": "3.10.10"
  }
 },
 "nbformat": 4,
 "nbformat_minor": 5
}
